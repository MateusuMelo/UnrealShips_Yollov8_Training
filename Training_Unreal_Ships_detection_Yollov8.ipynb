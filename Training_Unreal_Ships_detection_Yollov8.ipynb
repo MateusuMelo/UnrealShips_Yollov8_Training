{
 "cells": [
  {
   "cell_type": "code",
   "execution_count": 2,
   "metadata": {
    "colab": {
     "base_uri": "https://localhost:8080/",
     "height": 1000
    },
    "id": "LoG9OddKeeXe",
    "outputId": "1a2563a8-1c85-4cd0-f956-0edc958d20a2"
   },
   "outputs": [
    {
     "name": "stdout",
     "output_type": "stream",
     "text": [
      "Collecting roboflow\n",
      "  Downloading roboflow-1.0.8-py3-none-any.whl (56 kB)\n",
      "\u001b[K     |████████████████████████████████| 56 kB 1.9 MB/s eta 0:00:01\n",
      "\u001b[?25hRequirement already satisfied: matplotlib in /home/aluno/anaconda3/envs/tensorflow/lib/python3.8/site-packages (from roboflow) (3.5.1)\n",
      "Requirement already satisfied: six in /home/aluno/anaconda3/envs/tensorflow/lib/python3.8/site-packages (from roboflow) (1.16.0)\n",
      "Requirement already satisfied: PyYAML>=5.3.1 in /home/aluno/anaconda3/envs/tensorflow/lib/python3.8/site-packages (from roboflow) (6.0)\n",
      "Requirement already satisfied: python-dateutil in /home/aluno/anaconda3/envs/tensorflow/lib/python3.8/site-packages (from roboflow) (2.8.2)\n",
      "Requirement already satisfied: urllib3>=1.26.6 in /home/aluno/anaconda3/envs/tensorflow/lib/python3.8/site-packages (from roboflow) (1.26.9)\n",
      "Collecting requests-toolbelt\n",
      "  Downloading requests_toolbelt-1.0.0-py2.py3-none-any.whl (54 kB)\n",
      "\u001b[K     |████████████████████████████████| 54 kB 6.4 MB/s  eta 0:00:01\n",
      "\u001b[?25hRequirement already satisfied: tqdm>=4.41.0 in /home/aluno/anaconda3/envs/tensorflow/lib/python3.8/site-packages (from roboflow) (4.64.0)\n",
      "Requirement already satisfied: kiwisolver>=1.3.1 in /home/aluno/anaconda3/envs/tensorflow/lib/python3.8/site-packages (from roboflow) (1.4.0)\n",
      "Collecting cycler==0.10.0\n",
      "  Downloading cycler-0.10.0-py2.py3-none-any.whl (6.5 kB)\n",
      "Collecting wget\n",
      "  Downloading wget-3.2.zip (10 kB)\n",
      "Collecting certifi==2022.12.7\n",
      "  Downloading certifi-2022.12.7-py3-none-any.whl (155 kB)\n",
      "\u001b[K     |████████████████████████████████| 155 kB 21.1 MB/s eta 0:00:01\n",
      "\u001b[?25hRequirement already satisfied: chardet==4.0.0 in /home/aluno/anaconda3/envs/tensorflow/lib/python3.8/site-packages (from roboflow) (4.0.0)\n",
      "Collecting idna==2.10\n",
      "  Downloading idna-2.10-py2.py3-none-any.whl (58 kB)\n",
      "\u001b[K     |████████████████████████████████| 58 kB 22.4 MB/s eta 0:00:011\n",
      "\u001b[?25hRequirement already satisfied: opencv-python>=4.1.2 in /home/aluno/anaconda3/envs/tensorflow/lib/python3.8/site-packages (from roboflow) (4.5.5.64)\n",
      "Requirement already satisfied: numpy>=1.18.5 in /home/aluno/anaconda3/envs/tensorflow/lib/python3.8/site-packages (from roboflow) (1.22.3)\n",
      "Collecting python-dotenv\n",
      "  Downloading python_dotenv-1.0.0-py3-none-any.whl (19 kB)\n",
      "Collecting pyparsing==2.4.7\n",
      "  Downloading pyparsing-2.4.7-py2.py3-none-any.whl (67 kB)\n",
      "\u001b[K     |████████████████████████████████| 67 kB 22.7 MB/s eta 0:00:01\n",
      "\u001b[?25hRequirement already satisfied: requests in /home/aluno/anaconda3/envs/tensorflow/lib/python3.8/site-packages (from roboflow) (2.27.1)\n",
      "Requirement already satisfied: Pillow>=7.1.2 in /home/aluno/anaconda3/envs/tensorflow/lib/python3.8/site-packages (from roboflow) (8.3.2)\n",
      "Requirement already satisfied: packaging>=20.0 in /home/aluno/anaconda3/envs/tensorflow/lib/python3.8/site-packages (from matplotlib->roboflow) (23.1)\n",
      "Requirement already satisfied: fonttools>=4.22.0 in /home/aluno/anaconda3/envs/tensorflow/lib/python3.8/site-packages (from matplotlib->roboflow) (4.31.1)\n",
      "Requirement already satisfied: charset-normalizer~=2.0.0 in /home/aluno/anaconda3/envs/tensorflow/lib/python3.8/site-packages (from requests->roboflow) (2.0.12)\n",
      "Building wheels for collected packages: wget\n",
      "  Building wheel for wget (setup.py) ... \u001b[?25ldone\n",
      "\u001b[?25h  Created wheel for wget: filename=wget-3.2-py3-none-any.whl size=9675 sha256=20972e43592ca12c632c90baea2ac9c188ccf22018de955bcb70cc73b98e7667\n",
      "  Stored in directory: /home/aluno/.cache/pip/wheels/bd/a8/c3/3cf2c14a1837a4e04bd98631724e81f33f462d86a1d895fae0\n",
      "Successfully built wget\n",
      "Installing collected packages: idna, certifi, pyparsing, cycler, wget, requests-toolbelt, python-dotenv, roboflow\n",
      "  Attempting uninstall: idna\n",
      "    Found existing installation: idna 3.3\n",
      "    Uninstalling idna-3.3:\n",
      "      Successfully uninstalled idna-3.3\n",
      "  Attempting uninstall: certifi\n",
      "    Found existing installation: certifi 2021.10.8\n",
      "    Uninstalling certifi-2021.10.8:\n",
      "      Successfully uninstalled certifi-2021.10.8\n",
      "  Attempting uninstall: pyparsing\n",
      "    Found existing installation: pyparsing 3.0.7\n",
      "    Uninstalling pyparsing-3.0.7:\n",
      "      Successfully uninstalled pyparsing-3.0.7\n",
      "  Attempting uninstall: cycler\n",
      "    Found existing installation: cycler 0.11.0\n",
      "    Uninstalling cycler-0.11.0:\n",
      "      Successfully uninstalled cycler-0.11.0\n",
      "\u001b[31mERROR: pip's dependency resolver does not currently take into account all the packages that are installed. This behaviour is the source of the following dependency conflicts.\n",
      "naas 2.10.2 requires pysqlite3==0.4.6, which is not installed.\u001b[0m\n",
      "Successfully installed certifi-2022.12.7 cycler-0.10.0 idna-2.10 pyparsing-2.4.7 python-dotenv-1.0.0 requests-toolbelt-1.0.0 roboflow-1.0.8 wget-3.2\n",
      "loading Roboflow workspace...\n",
      "loading Roboflow project...\n",
      "[WARNING] we noticed you are downloading a `yolov8` datasets but you don't have `ultralytics` installed. Roboflow `.deploy` supports only models trained with `ultralytics<=8.0.20`, to intall it `pip install ultralytics<=8.0.20`.\n",
      "Downloading Dataset Version Zip in Unreal_Ships_detection-2 to yolov8: 0% [24567808 / 9839801244] bytes"
     ]
    },
    {
     "name": "stderr",
     "output_type": "stream",
     "text": [
      "IOPub message rate exceeded.\n",
      "The notebook server will temporarily stop sending output\n",
      "to the client in order to avoid crashing it.\n",
      "To change this limit, set the config variable\n",
      "`--NotebookApp.iopub_msg_rate_limit`.\n",
      "\n",
      "Current values:\n",
      "NotebookApp.iopub_msg_rate_limit=1000.0 (msgs/sec)\n",
      "NotebookApp.rate_limit_window=3.0 (secs)\n",
      "\n"
     ]
    },
    {
     "name": "stdout",
     "output_type": "stream",
     "text": [
      "Downloading Dataset Version Zip in Unreal_Ships_detection-2 to yolov8: 0% [81338368 / 9839801244] bytes"
     ]
    },
    {
     "name": "stderr",
     "output_type": "stream",
     "text": [
      "IOPub message rate exceeded.\n",
      "The notebook server will temporarily stop sending output\n",
      "to the client in order to avoid crashing it.\n",
      "To change this limit, set the config variable\n",
      "`--NotebookApp.iopub_msg_rate_limit`.\n",
      "\n",
      "Current values:\n",
      "NotebookApp.iopub_msg_rate_limit=1000.0 (msgs/sec)\n",
      "NotebookApp.rate_limit_window=3.0 (secs)\n",
      "\n"
     ]
    },
    {
     "name": "stdout",
     "output_type": "stream",
     "text": [
      "Downloading Dataset Version Zip in Unreal_Ships_detection-2 to yolov8: 1% [140165120 / 9839801244] bytes"
     ]
    },
    {
     "name": "stderr",
     "output_type": "stream",
     "text": [
      "IOPub message rate exceeded.\n",
      "The notebook server will temporarily stop sending output\n",
      "to the client in order to avoid crashing it.\n",
      "To change this limit, set the config variable\n",
      "`--NotebookApp.iopub_msg_rate_limit`.\n",
      "\n",
      "Current values:\n",
      "NotebookApp.iopub_msg_rate_limit=1000.0 (msgs/sec)\n",
      "NotebookApp.rate_limit_window=3.0 (secs)\n",
      "\n"
     ]
    },
    {
     "name": "stdout",
     "output_type": "stream",
     "text": [
      "Downloading Dataset Version Zip in Unreal_Ships_detection-2 to yolov8: 2% [200581120 / 9839801244] bytes"
     ]
    },
    {
     "name": "stderr",
     "output_type": "stream",
     "text": [
      "IOPub message rate exceeded.\n",
      "The notebook server will temporarily stop sending output\n",
      "to the client in order to avoid crashing it.\n",
      "To change this limit, set the config variable\n",
      "`--NotebookApp.iopub_msg_rate_limit`.\n",
      "\n",
      "Current values:\n",
      "NotebookApp.iopub_msg_rate_limit=1000.0 (msgs/sec)\n",
      "NotebookApp.rate_limit_window=3.0 (secs)\n",
      "\n"
     ]
    },
    {
     "name": "stdout",
     "output_type": "stream",
     "text": [
      "Downloading Dataset Version Zip in Unreal_Ships_detection-2 to yolov8: 2% [256327680 / 9839801244] bytes"
     ]
    },
    {
     "name": "stderr",
     "output_type": "stream",
     "text": [
      "IOPub message rate exceeded.\n",
      "The notebook server will temporarily stop sending output\n",
      "to the client in order to avoid crashing it.\n",
      "To change this limit, set the config variable\n",
      "`--NotebookApp.iopub_msg_rate_limit`.\n",
      "\n",
      "Current values:\n",
      "NotebookApp.iopub_msg_rate_limit=1000.0 (msgs/sec)\n",
      "NotebookApp.rate_limit_window=3.0 (secs)\n",
      "\n"
     ]
    },
    {
     "name": "stdout",
     "output_type": "stream",
     "text": [
      "Downloading Dataset Version Zip in Unreal_Ships_detection-2 to yolov8: 3% [311877632 / 9839801244] bytes"
     ]
    },
    {
     "name": "stderr",
     "output_type": "stream",
     "text": [
      "IOPub message rate exceeded.\n",
      "The notebook server will temporarily stop sending output\n",
      "to the client in order to avoid crashing it.\n",
      "To change this limit, set the config variable\n",
      "`--NotebookApp.iopub_msg_rate_limit`.\n",
      "\n",
      "Current values:\n",
      "NotebookApp.iopub_msg_rate_limit=1000.0 (msgs/sec)\n",
      "NotebookApp.rate_limit_window=3.0 (secs)\n",
      "\n"
     ]
    },
    {
     "name": "stdout",
     "output_type": "stream",
     "text": [
      "Downloading Dataset Version Zip in Unreal_Ships_detection-2 to yolov8: 3% [369631232 / 9839801244] bytes"
     ]
    },
    {
     "name": "stderr",
     "output_type": "stream",
     "text": [
      "IOPub message rate exceeded.\n",
      "The notebook server will temporarily stop sending output\n",
      "to the client in order to avoid crashing it.\n",
      "To change this limit, set the config variable\n",
      "`--NotebookApp.iopub_msg_rate_limit`.\n",
      "\n",
      "Current values:\n",
      "NotebookApp.iopub_msg_rate_limit=1000.0 (msgs/sec)\n",
      "NotebookApp.rate_limit_window=3.0 (secs)\n",
      "\n"
     ]
    },
    {
     "name": "stdout",
     "output_type": "stream",
     "text": [
      "Downloading Dataset Version Zip in Unreal_Ships_detection-2 to yolov8: 4% [427229184 / 9839801244] bytes"
     ]
    },
    {
     "name": "stderr",
     "output_type": "stream",
     "text": [
      "IOPub message rate exceeded.\n",
      "The notebook server will temporarily stop sending output\n",
      "to the client in order to avoid crashing it.\n",
      "To change this limit, set the config variable\n",
      "`--NotebookApp.iopub_msg_rate_limit`.\n",
      "\n",
      "Current values:\n",
      "NotebookApp.iopub_msg_rate_limit=1000.0 (msgs/sec)\n",
      "NotebookApp.rate_limit_window=3.0 (secs)\n",
      "\n"
     ]
    },
    {
     "name": "stdout",
     "output_type": "stream",
     "text": [
      "Downloading Dataset Version Zip in Unreal_Ships_detection-2 to yolov8: 4% [479682560 / 9839801244] bytes"
     ]
    },
    {
     "name": "stderr",
     "output_type": "stream",
     "text": [
      "IOPub message rate exceeded.\n",
      "The notebook server will temporarily stop sending output\n",
      "to the client in order to avoid crashing it.\n",
      "To change this limit, set the config variable\n",
      "`--NotebookApp.iopub_msg_rate_limit`.\n",
      "\n",
      "Current values:\n",
      "NotebookApp.iopub_msg_rate_limit=1000.0 (msgs/sec)\n",
      "NotebookApp.rate_limit_window=3.0 (secs)\n",
      "\n"
     ]
    },
    {
     "name": "stdout",
     "output_type": "stream",
     "text": [
      "Downloading Dataset Version Zip in Unreal_Ships_detection-2 to yolov8: 5% [533250048 / 9839801244] bytes"
     ]
    },
    {
     "name": "stderr",
     "output_type": "stream",
     "text": [
      "IOPub message rate exceeded.\n",
      "The notebook server will temporarily stop sending output\n",
      "to the client in order to avoid crashing it.\n",
      "To change this limit, set the config variable\n",
      "`--NotebookApp.iopub_msg_rate_limit`.\n",
      "\n",
      "Current values:\n",
      "NotebookApp.iopub_msg_rate_limit=1000.0 (msgs/sec)\n",
      "NotebookApp.rate_limit_window=3.0 (secs)\n",
      "\n"
     ]
    },
    {
     "name": "stdout",
     "output_type": "stream",
     "text": [
      "Downloading Dataset Version Zip in Unreal_Ships_detection-2 to yolov8: 5% [582844416 / 9839801244] bytes"
     ]
    },
    {
     "name": "stderr",
     "output_type": "stream",
     "text": [
      "IOPub message rate exceeded.\n",
      "The notebook server will temporarily stop sending output\n",
      "to the client in order to avoid crashing it.\n",
      "To change this limit, set the config variable\n",
      "`--NotebookApp.iopub_msg_rate_limit`.\n",
      "\n",
      "Current values:\n",
      "NotebookApp.iopub_msg_rate_limit=1000.0 (msgs/sec)\n",
      "NotebookApp.rate_limit_window=3.0 (secs)\n",
      "\n"
     ]
    },
    {
     "name": "stdout",
     "output_type": "stream",
     "text": [
      "Downloading Dataset Version Zip in Unreal_Ships_detection-2 to yolov8: 6% [636944384 / 9839801244] bytes"
     ]
    },
    {
     "name": "stderr",
     "output_type": "stream",
     "text": [
      "IOPub message rate exceeded.\n",
      "The notebook server will temporarily stop sending output\n",
      "to the client in order to avoid crashing it.\n",
      "To change this limit, set the config variable\n",
      "`--NotebookApp.iopub_msg_rate_limit`.\n",
      "\n",
      "Current values:\n",
      "NotebookApp.iopub_msg_rate_limit=1000.0 (msgs/sec)\n",
      "NotebookApp.rate_limit_window=3.0 (secs)\n",
      "\n"
     ]
    },
    {
     "name": "stdout",
     "output_type": "stream",
     "text": [
      "Downloading Dataset Version Zip in Unreal_Ships_detection-2 to yolov8: 7% [693141504 / 9839801244] bytes"
     ]
    },
    {
     "name": "stderr",
     "output_type": "stream",
     "text": [
      "IOPub message rate exceeded.\n",
      "The notebook server will temporarily stop sending output\n",
      "to the client in order to avoid crashing it.\n",
      "To change this limit, set the config variable\n",
      "`--NotebookApp.iopub_msg_rate_limit`.\n",
      "\n",
      "Current values:\n",
      "NotebookApp.iopub_msg_rate_limit=1000.0 (msgs/sec)\n",
      "NotebookApp.rate_limit_window=3.0 (secs)\n",
      "\n"
     ]
    },
    {
     "name": "stdout",
     "output_type": "stream",
     "text": [
      "Downloading Dataset Version Zip in Unreal_Ships_detection-2 to yolov8: 7% [726016000 / 9839801244] bytes"
     ]
    }
   ],
   "source": [
    "!pip install roboflow\n",
    "from roboflow import Roboflow\n",
    "rf = Roboflow(api_key=\"NNsjGsIb23GWj3zGDggC\")\n",
    "project = rf.workspace(\"inatel-qxvuj\").project(\"unreal_ships_detection\")\n",
    "dataset = project.version(2).download(\"yolov8\")\n"
   ]
  },
  {
   "cell_type": "code",
   "execution_count": 2,
   "metadata": {
    "colab": {
     "base_uri": "https://localhost:8080/"
    },
    "id": "YwFgHDXMuJSX",
    "outputId": "ce1e535c-407b-4f38-d8b7-d2a1b1c5d0ec"
   },
   "outputs": [
    {
     "name": "stderr",
     "output_type": "stream",
     "text": [
      "Ultralytics YOLOv8.0.20 🚀 Python-3.8.12 torch-2.0.0+cu117 CUDA:0 (NVIDIA GeForce RTX 3090, 24265MiB)\n",
      "Setup complete ✅ (32 CPUs, 125.8 GB RAM, 138.7/1861.4 GB disk)\n"
     ]
    }
   ],
   "source": [
    "from IPython import display\n",
    "display.clear_output()\n",
    "\n",
    "import ultralytics\n",
    "ultralytics.checks()"
   ]
  },
  {
   "cell_type": "code",
   "execution_count": 12,
   "metadata": {
    "id": "Y8cDtxLIBHgQ"
   },
   "outputs": [],
   "source": [
    "#Removing null marked images.\n",
    "import pandas as pd\n",
    "import os\n",
    "\n",
    "path = \"/home/aluno/Documentos/Unreal_Training/Unreal_Ship_Detection_Yollov8/Unreal_Ships_detection-2/valid\"\n",
    "txt_files = [f for f in os.listdir(os.path.join(path, 'labels')) if f.endswith('.txt')]\n",
    "\n",
    "for filename in txt_files:\n",
    "    # carrega as anotações do arquivo\n",
    "    with open(os.path.join(path, 'labels', filename), 'r') as f:\n",
    "        lines = f.readlines()\n",
    "    # verifica se as anotações correspondem a uma imagem nula\n",
    "    if len(lines) == 0:\n",
    "        # exclui a imagem e o arquivo de anotação correspondente se a imagem for nula\n",
    "        image_file = filename.replace('.txt', '.jpg')\n",
    "        os.remove(os.path.join(path + '/images', image_file))\n",
    "        os.remove(os.path.join(path, 'labels', filename))\n"
   ]
  },
  {
   "cell_type": "code",
   "execution_count": 8,
   "metadata": {},
   "outputs": [
    {
     "name": "stdout",
     "output_type": "stream",
     "text": [
      "/home/aluno/Documentos/Unreal_Training/Unreal_Ship_Detection_Yollov8\r\n"
     ]
    }
   ],
   "source": [
    "!pwd"
   ]
  },
  {
   "cell_type": "code",
   "execution_count": 24,
   "metadata": {
    "colab": {
     "base_uri": "https://localhost:8080/"
    },
    "id": "rTklOIPD4hfR",
    "outputId": "f5028202-d822-407b-a7b5-72d48348151f"
   },
   "outputs": [
    {
     "name": "stdout",
     "output_type": "stream",
     "text": [
      "Ultralytics YOLOv8.0.20 🚀 Python-3.8.12 torch-2.0.0+cu117 CUDA:0 (NVIDIA GeForce RTX 3090, 24265MiB)\n",
      "\u001b[34m\u001b[1myolo/engine/trainer: \u001b[0mtask=detect, mode=train, model=/home/aluno/Documentos/Unreal_Training/Unreal_Ship_Detection_Yollov8/runs/detect/train6/weights/last.pt, data=/home/aluno/Documentos/Unreal_Training/Unreal_Ship_Detection_Yollov8/Unreal_Ships_detection-2/data.yaml, epochs=130, patience=50, batch=64, imgsz=800, save=True, cache=True, device=0, workers=128, project=None, name=None, exist_ok=False, pretrained=False, optimizer=SGD, verbose=True, seed=0, deterministic=True, single_cls=False, image_weights=False, rect=False, cos_lr=False, close_mosaic=10, resume=False, overlap_mask=True, mask_ratio=4, dropout=False, val=True, save_json=False, save_hybrid=False, conf=0.001, iou=0.7, max_det=300, half=False, dnn=False, plots=True, source=ultralytics/assets/, show=False, save_txt=False, save_conf=False, save_crop=False, hide_labels=False, hide_conf=False, vid_stride=1, line_thickness=3, visualize=False, augment=False, agnostic_nms=False, classes=None, retina_masks=False, boxes=True, format=torchscript, keras=False, optimize=False, int8=False, dynamic=False, simplify=False, opset=17, workspace=4, nms=False, lr0=0.01, lrf=0.01, momentum=0.937, weight_decay=0.001, warmup_epochs=3.0, warmup_momentum=0.8, warmup_bias_lr=0.1, box=7.5, cls=0.5, dfl=1.5, fl_gamma=0.0, label_smoothing=0.0, nbs=64, hsv_h=0.015, hsv_s=0.7, hsv_v=0.4, degrees=0.0, translate=0.1, scale=0.5, shear=0.0, perspective=0.0, flipud=0.0, fliplr=0.5, mosaic=1.0, mixup=0.0, copy_paste=0.0, cfg=None, v5loader=False, save_dir=runs/detect/train6\n",
      "\n",
      "                   from  n    params  module                                       arguments                     \n",
      "  0                  -1  1       928  ultralytics.nn.modules.Conv                  [3, 32, 3, 2]                 \n",
      "  1                  -1  1     18560  ultralytics.nn.modules.Conv                  [32, 64, 3, 2]                \n",
      "  2                  -1  1     29056  ultralytics.nn.modules.C2f                   [64, 64, 1, True]             \n",
      "  3                  -1  1     73984  ultralytics.nn.modules.Conv                  [64, 128, 3, 2]               \n",
      "  4                  -1  2    197632  ultralytics.nn.modules.C2f                   [128, 128, 2, True]           \n",
      "  5                  -1  1    295424  ultralytics.nn.modules.Conv                  [128, 256, 3, 2]              \n",
      "  6                  -1  2    788480  ultralytics.nn.modules.C2f                   [256, 256, 2, True]           \n",
      "  7                  -1  1   1180672  ultralytics.nn.modules.Conv                  [256, 512, 3, 2]              \n",
      "  8                  -1  1   1838080  ultralytics.nn.modules.C2f                   [512, 512, 1, True]           \n",
      "  9                  -1  1    656896  ultralytics.nn.modules.SPPF                  [512, 512, 5]                 \n",
      " 10                  -1  1         0  torch.nn.modules.upsampling.Upsample         [None, 2, 'nearest']          \n",
      " 11             [-1, 6]  1         0  ultralytics.nn.modules.Concat                [1]                           \n",
      " 12                  -1  1    591360  ultralytics.nn.modules.C2f                   [768, 256, 1]                 \n",
      " 13                  -1  1         0  torch.nn.modules.upsampling.Upsample         [None, 2, 'nearest']          \n",
      " 14             [-1, 4]  1         0  ultralytics.nn.modules.Concat                [1]                           \n",
      " 15                  -1  1    148224  ultralytics.nn.modules.C2f                   [384, 128, 1]                 \n",
      " 16                  -1  1    147712  ultralytics.nn.modules.Conv                  [128, 128, 3, 2]              \n",
      " 17            [-1, 12]  1         0  ultralytics.nn.modules.Concat                [1]                           \n",
      " 18                  -1  1    493056  ultralytics.nn.modules.C2f                   [384, 256, 1]                 \n",
      " 19                  -1  1    590336  ultralytics.nn.modules.Conv                  [256, 256, 3, 2]              \n",
      " 20             [-1, 9]  1         0  ultralytics.nn.modules.Concat                [1]                           \n",
      " 21                  -1  1   1969152  ultralytics.nn.modules.C2f                   [768, 512, 1]                 \n",
      " 22        [15, 18, 21]  1   2117596  ultralytics.nn.modules.Detect                [4, [128, 256, 512]]          \n",
      "Model summary: 225 layers, 11137148 parameters, 11137132 gradients, 28.7 GFLOPs\n",
      "\n",
      "Transferred 355/355 items from pretrained weights\n",
      "\u001b[34m\u001b[1moptimizer:\u001b[0m SGD(lr=0.01) with parameter groups 57 weight(decay=0.0), 64 weight(decay=0.001), 63 bias\n",
      "\u001b[34m\u001b[1mtrain: \u001b[0mScanning /home/aluno/Documentos/Unreal_Training/Unreal_Ship_Detection_Yol\u001b[0m\n",
      "\u001b[34m\u001b[1mtrain: \u001b[0mWARNING ⚠️ /home/aluno/Documentos/Unreal_Training/Unreal_Ship_Detection_Yollov8/datasets/Unreal_Ships_detection-2/train/images/IMG-1012-_bmp.rf.2e71bf0359e09b2b3301f19a5346518d.jpg: 1 duplicate labels removed\n",
      "\u001b[34m\u001b[1mtrain: \u001b[0mWARNING ⚠️ /home/aluno/Documentos/Unreal_Training/Unreal_Ship_Detection_Yollov8/datasets/Unreal_Ships_detection-2/train/images/IMG-1012-_bmp.rf.72398ba5ef7d3c7bbd1f6765738bf6d4.jpg: 1 duplicate labels removed\n",
      "\u001b[34m\u001b[1mtrain: \u001b[0mWARNING ⚠️ /home/aluno/Documentos/Unreal_Training/Unreal_Ship_Detection_Yollov8/datasets/Unreal_Ships_detection-2/train/images/IMG-1012-_bmp.rf.eeaf78182d31a1b99128606908f71860.jpg: 1 duplicate labels removed\n",
      "\u001b[34m\u001b[1mtrain: \u001b[0mWARNING ⚠️ /home/aluno/Documentos/Unreal_Training/Unreal_Ship_Detection_Yollov8/datasets/Unreal_Ships_detection-2/train/images/IMG-1020-_bmp.rf.973c28f688bdd413405ee9161522bd15.jpg: 1 duplicate labels removed\n",
      "\u001b[34m\u001b[1mtrain: \u001b[0mWARNING ⚠️ /home/aluno/Documentos/Unreal_Training/Unreal_Ship_Detection_Yollov8/datasets/Unreal_Ships_detection-2/train/images/IMG-1020-_bmp.rf.c35567e9403447c570bc2c86dc37c7b7.jpg: 1 duplicate labels removed\n",
      "\u001b[34m\u001b[1mtrain: \u001b[0mWARNING ⚠️ /home/aluno/Documentos/Unreal_Training/Unreal_Ship_Detection_Yollov8/datasets/Unreal_Ships_detection-2/train/images/IMG-1020-_bmp.rf.e1ebea8094db8101029e223bf98bfd97.jpg: 1 duplicate labels removed\n",
      "\u001b[34m\u001b[1mtrain: \u001b[0mWARNING ⚠️ /home/aluno/Documentos/Unreal_Training/Unreal_Ship_Detection_Yollov8/datasets/Unreal_Ships_detection-2/train/images/IMG-1027-_bmp.rf.39211d62c66bacb641ac9fc41c09d965.jpg: 2 duplicate labels removed\n",
      "\u001b[34m\u001b[1mtrain: \u001b[0mWARNING ⚠️ /home/aluno/Documentos/Unreal_Training/Unreal_Ship_Detection_Yollov8/datasets/Unreal_Ships_detection-2/train/images/IMG-1027-_bmp.rf.785af8dbbb338c5fddf6021c8a9ba072.jpg: 2 duplicate labels removed\n",
      "\u001b[34m\u001b[1mtrain: \u001b[0mWARNING ⚠️ /home/aluno/Documentos/Unreal_Training/Unreal_Ship_Detection_Yollov8/datasets/Unreal_Ships_detection-2/train/images/IMG-1027-_bmp.rf.c372a6922e342c937d3a57a04520c71f.jpg: 2 duplicate labels removed\n",
      "\u001b[34m\u001b[1mtrain: \u001b[0mWARNING ⚠️ /home/aluno/Documentos/Unreal_Training/Unreal_Ship_Detection_Yollov8/datasets/Unreal_Ships_detection-2/train/images/IMG-1028-_bmp.rf.8ffe58386701207976f5e1b731ca7b91.jpg: 1 duplicate labels removed\n",
      "\u001b[34m\u001b[1mtrain: \u001b[0mWARNING ⚠️ /home/aluno/Documentos/Unreal_Training/Unreal_Ship_Detection_Yollov8/datasets/Unreal_Ships_detection-2/train/images/IMG-1028-_bmp.rf.a56cff1edac8487ebf9f4571fc01c147.jpg: 1 duplicate labels removed\n",
      "\u001b[34m\u001b[1mtrain: \u001b[0mWARNING ⚠️ /home/aluno/Documentos/Unreal_Training/Unreal_Ship_Detection_Yollov8/datasets/Unreal_Ships_detection-2/train/images/IMG-1028-_bmp.rf.b6000d3b7603cf4316ef4f2c7d002518.jpg: 1 duplicate labels removed\n",
      "\u001b[34m\u001b[1mtrain: \u001b[0mWARNING ⚠️ /home/aluno/Documentos/Unreal_Training/Unreal_Ship_Detection_Yollov8/datasets/Unreal_Ships_detection-2/train/images/IMG-1078-_bmp.rf.38786099ff7196efd3d18a757c26022d.jpg: 1 duplicate labels removed\n",
      "\u001b[34m\u001b[1mtrain: \u001b[0mWARNING ⚠️ /home/aluno/Documentos/Unreal_Training/Unreal_Ship_Detection_Yollov8/datasets/Unreal_Ships_detection-2/train/images/IMG-1078-_bmp.rf.55fdefaea19e17fe5aedfa45d40c752b.jpg: 1 duplicate labels removed\n",
      "\u001b[34m\u001b[1mtrain: \u001b[0mWARNING ⚠️ /home/aluno/Documentos/Unreal_Training/Unreal_Ship_Detection_Yollov8/datasets/Unreal_Ships_detection-2/train/images/IMG-1078-_bmp.rf.fc0a61e4d2bb24b91c02739c2994d576.jpg: 1 duplicate labels removed\n",
      "\u001b[34m\u001b[1mtrain: \u001b[0mWARNING ⚠️ /home/aluno/Documentos/Unreal_Training/Unreal_Ship_Detection_Yollov8/datasets/Unreal_Ships_detection-2/train/images/IMG-1079-_bmp.rf.00537fa79781ae60c096f2470f762e13.jpg: 2 duplicate labels removed\n",
      "\u001b[34m\u001b[1mtrain: \u001b[0mWARNING ⚠️ /home/aluno/Documentos/Unreal_Training/Unreal_Ship_Detection_Yollov8/datasets/Unreal_Ships_detection-2/train/images/IMG-1079-_bmp.rf.cfcf2cd078cc39e185269d101b460c5f.jpg: 2 duplicate labels removed\n",
      "\u001b[34m\u001b[1mtrain: \u001b[0mWARNING ⚠️ /home/aluno/Documentos/Unreal_Training/Unreal_Ship_Detection_Yollov8/datasets/Unreal_Ships_detection-2/train/images/IMG-1079-_bmp.rf.e9c3105309b3cae27048f688e6a9b560.jpg: 2 duplicate labels removed\n",
      "\u001b[34m\u001b[1mtrain: \u001b[0mWARNING ⚠️ /home/aluno/Documentos/Unreal_Training/Unreal_Ship_Detection_Yollov8/datasets/Unreal_Ships_detection-2/train/images/IMG-1112-_bmp.rf.83fede2ca6069cb3949347213dab9cab.jpg: 1 duplicate labels removed\n",
      "\u001b[34m\u001b[1mtrain: \u001b[0mWARNING ⚠️ /home/aluno/Documentos/Unreal_Training/Unreal_Ship_Detection_Yollov8/datasets/Unreal_Ships_detection-2/train/images/IMG-1112-_bmp.rf.d007258f825e057346412f33644de641.jpg: 1 duplicate labels removed\n",
      "\u001b[34m\u001b[1mtrain: \u001b[0mWARNING ⚠️ /home/aluno/Documentos/Unreal_Training/Unreal_Ship_Detection_Yollov8/datasets/Unreal_Ships_detection-2/train/images/IMG-1112-_bmp.rf.dc1440eb9187b57839475a1406fbb018.jpg: 1 duplicate labels removed\n",
      "\u001b[34m\u001b[1mtrain: \u001b[0mWARNING ⚠️ /home/aluno/Documentos/Unreal_Training/Unreal_Ship_Detection_Yollov8/datasets/Unreal_Ships_detection-2/train/images/IMG-1140-_bmp.rf.5146d0716a275fa4b374ecea795d4ce2.jpg: 1 duplicate labels removed\n",
      "\u001b[34m\u001b[1mtrain: \u001b[0mWARNING ⚠️ /home/aluno/Documentos/Unreal_Training/Unreal_Ship_Detection_Yollov8/datasets/Unreal_Ships_detection-2/train/images/IMG-1140-_bmp.rf.7260e75417e6198773fe4769fa2bf9b0.jpg: 1 duplicate labels removed\n",
      "\u001b[34m\u001b[1mtrain: \u001b[0mWARNING ⚠️ /home/aluno/Documentos/Unreal_Training/Unreal_Ship_Detection_Yollov8/datasets/Unreal_Ships_detection-2/train/images/IMG-1140-_bmp.rf.bc396987ece04e83955c8ab09ef68053.jpg: 1 duplicate labels removed\n",
      "\u001b[34m\u001b[1mtrain: \u001b[0mWARNING ⚠️ /home/aluno/Documentos/Unreal_Training/Unreal_Ship_Detection_Yollov8/datasets/Unreal_Ships_detection-2/train/images/IMG-1296-_bmp.rf.8433c95cf8282cece21764a79525f443.jpg: 1 duplicate labels removed\n",
      "\u001b[34m\u001b[1mtrain: \u001b[0mWARNING ⚠️ /home/aluno/Documentos/Unreal_Training/Unreal_Ship_Detection_Yollov8/datasets/Unreal_Ships_detection-2/train/images/IMG-1296-_bmp.rf.9898b3032deb531bb316f676e0d21de3.jpg: 1 duplicate labels removed\n",
      "\u001b[34m\u001b[1mtrain: \u001b[0mWARNING ⚠️ /home/aluno/Documentos/Unreal_Training/Unreal_Ship_Detection_Yollov8/datasets/Unreal_Ships_detection-2/train/images/IMG-1296-_bmp.rf.bdd90afc07e441e257c77249c98b36c1.jpg: 1 duplicate labels removed\n",
      "\u001b[34m\u001b[1mtrain: \u001b[0mWARNING ⚠️ /home/aluno/Documentos/Unreal_Training/Unreal_Ship_Detection_Yollov8/datasets/Unreal_Ships_detection-2/train/images/IMG-1297-_bmp.rf.623a93bab1064324950235b1813378f9.jpg: 1 duplicate labels removed\n",
      "\u001b[34m\u001b[1mtrain: \u001b[0mWARNING ⚠️ /home/aluno/Documentos/Unreal_Training/Unreal_Ship_Detection_Yollov8/datasets/Unreal_Ships_detection-2/train/images/IMG-1297-_bmp.rf.667348729cbdbc1cac55844b62702c01.jpg: 1 duplicate labels removed\n",
      "\u001b[34m\u001b[1mtrain: \u001b[0mWARNING ⚠️ /home/aluno/Documentos/Unreal_Training/Unreal_Ship_Detection_Yollov8/datasets/Unreal_Ships_detection-2/train/images/IMG-1297-_bmp.rf.a645fcb2b7d970583659f04afd59ff9c.jpg: 1 duplicate labels removed\n",
      "\u001b[34m\u001b[1mtrain: \u001b[0mWARNING ⚠️ /home/aluno/Documentos/Unreal_Training/Unreal_Ship_Detection_Yollov8/datasets/Unreal_Ships_detection-2/train/images/IMG-1643-_bmp.rf.2717e6a35f4e446ea2506f2fb06fd548.jpg: 1 duplicate labels removed\n",
      "\u001b[34m\u001b[1mtrain: \u001b[0mWARNING ⚠️ /home/aluno/Documentos/Unreal_Training/Unreal_Ship_Detection_Yollov8/datasets/Unreal_Ships_detection-2/train/images/IMG-1643-_bmp.rf.9589e9a5920469ebad910246a718bec0.jpg: 1 duplicate labels removed\n",
      "\u001b[34m\u001b[1mtrain: \u001b[0mWARNING ⚠️ /home/aluno/Documentos/Unreal_Training/Unreal_Ship_Detection_Yollov8/datasets/Unreal_Ships_detection-2/train/images/IMG-1643-_bmp.rf.d4e5b2245a466458582cd685fd5176a4.jpg: 1 duplicate labels removed\n",
      "\u001b[34m\u001b[1mtrain: \u001b[0mWARNING ⚠️ /home/aluno/Documentos/Unreal_Training/Unreal_Ship_Detection_Yollov8/datasets/Unreal_Ships_detection-2/train/images/IMG-2869-_bmp.rf.6a3f35dfb94a47e7b6663545c0f089df.jpg: 1 duplicate labels removed\n"
     ]
    },
    {
     "name": "stdout",
     "output_type": "stream",
     "text": [
      "\u001b[34m\u001b[1mtrain: \u001b[0mWARNING ⚠️ /home/aluno/Documentos/Unreal_Training/Unreal_Ship_Detection_Yollov8/datasets/Unreal_Ships_detection-2/train/images/IMG-2869-_bmp.rf.9eb078e99bf534f6da8242984d1e9009.jpg: 1 duplicate labels removed\n",
      "\u001b[34m\u001b[1mtrain: \u001b[0mWARNING ⚠️ /home/aluno/Documentos/Unreal_Training/Unreal_Ship_Detection_Yollov8/datasets/Unreal_Ships_detection-2/train/images/IMG-2869-_bmp.rf.caff064d1b38535513d840e8c911a403.jpg: 1 duplicate labels removed\n",
      "\u001b[34m\u001b[1mtrain: \u001b[0mWARNING ⚠️ /home/aluno/Documentos/Unreal_Training/Unreal_Ship_Detection_Yollov8/datasets/Unreal_Ships_detection-2/train/images/IMG-287-_bmp.rf.389c7dc57c8b20b8f928da7bf4bfa1b9.jpg: 1 duplicate labels removed\n",
      "\u001b[34m\u001b[1mtrain: \u001b[0mWARNING ⚠️ /home/aluno/Documentos/Unreal_Training/Unreal_Ship_Detection_Yollov8/datasets/Unreal_Ships_detection-2/train/images/IMG-287-_bmp.rf.70136265d9a65aa24e5d99aa35d8e4b2.jpg: 1 duplicate labels removed\n",
      "\u001b[34m\u001b[1mtrain: \u001b[0mWARNING ⚠️ /home/aluno/Documentos/Unreal_Training/Unreal_Ship_Detection_Yollov8/datasets/Unreal_Ships_detection-2/train/images/IMG-287-_bmp.rf.7505fe2f5e12141584df04255ed5b338.jpg: 1 duplicate labels removed\n",
      "\u001b[34m\u001b[1mtrain: \u001b[0mWARNING ⚠️ /home/aluno/Documentos/Unreal_Training/Unreal_Ship_Detection_Yollov8/datasets/Unreal_Ships_detection-2/train/images/IMG-2870-_bmp.rf.2106019fb99490121b45e5d9e7185671.jpg: 1 duplicate labels removed\n",
      "\u001b[34m\u001b[1mtrain: \u001b[0mWARNING ⚠️ /home/aluno/Documentos/Unreal_Training/Unreal_Ship_Detection_Yollov8/datasets/Unreal_Ships_detection-2/train/images/IMG-2870-_bmp.rf.a99d851342e47d43fbd91c12b548452c.jpg: 1 duplicate labels removed\n",
      "\u001b[34m\u001b[1mtrain: \u001b[0mWARNING ⚠️ /home/aluno/Documentos/Unreal_Training/Unreal_Ship_Detection_Yollov8/datasets/Unreal_Ships_detection-2/train/images/IMG-2870-_bmp.rf.abb05aa0df2c58d2f88cd2452d78efd5.jpg: 1 duplicate labels removed\n",
      "\u001b[34m\u001b[1mtrain: \u001b[0mWARNING ⚠️ /home/aluno/Documentos/Unreal_Training/Unreal_Ship_Detection_Yollov8/datasets/Unreal_Ships_detection-2/train/images/IMG-3148-_bmp.rf.0968213351cc0928194ff7f8e66bc70d.jpg: 1 duplicate labels removed\n",
      "\u001b[34m\u001b[1mtrain: \u001b[0mWARNING ⚠️ /home/aluno/Documentos/Unreal_Training/Unreal_Ship_Detection_Yollov8/datasets/Unreal_Ships_detection-2/train/images/IMG-3148-_bmp.rf.dcf0576373a46a8ec94545baac00b081.jpg: 1 duplicate labels removed\n",
      "\u001b[34m\u001b[1mtrain: \u001b[0mWARNING ⚠️ /home/aluno/Documentos/Unreal_Training/Unreal_Ship_Detection_Yollov8/datasets/Unreal_Ships_detection-2/train/images/IMG-3148-_bmp.rf.ee00a827281461027c15f903b6f6fa37.jpg: 1 duplicate labels removed\n",
      "\u001b[34m\u001b[1mtrain: \u001b[0mWARNING ⚠️ /home/aluno/Documentos/Unreal_Training/Unreal_Ship_Detection_Yollov8/datasets/Unreal_Ships_detection-2/train/images/IMG-3568-_bmp.rf.33894fcb8d9acb213df90ca25f56b647.jpg: 1 duplicate labels removed\n",
      "\u001b[34m\u001b[1mtrain: \u001b[0mWARNING ⚠️ /home/aluno/Documentos/Unreal_Training/Unreal_Ship_Detection_Yollov8/datasets/Unreal_Ships_detection-2/train/images/IMG-3568-_bmp.rf.469518e4096229122c563c6f283f4bbd.jpg: 1 duplicate labels removed\n",
      "\u001b[34m\u001b[1mtrain: \u001b[0mWARNING ⚠️ /home/aluno/Documentos/Unreal_Training/Unreal_Ship_Detection_Yollov8/datasets/Unreal_Ships_detection-2/train/images/IMG-3568-_bmp.rf.5368113c7f94f623947c8059ebf4ad8a.jpg: 1 duplicate labels removed\n",
      "\u001b[34m\u001b[1mtrain: \u001b[0mWARNING ⚠️ /home/aluno/Documentos/Unreal_Training/Unreal_Ship_Detection_Yollov8/datasets/Unreal_Ships_detection-2/train/images/IMG-3569-_bmp.rf.3cad1f5e78b915de57f8c48b97e5d2c0.jpg: 1 duplicate labels removed\n",
      "\u001b[34m\u001b[1mtrain: \u001b[0mWARNING ⚠️ /home/aluno/Documentos/Unreal_Training/Unreal_Ship_Detection_Yollov8/datasets/Unreal_Ships_detection-2/train/images/IMG-3569-_bmp.rf.66383d2913e5ef114c06f36f4b7ccd42.jpg: 1 duplicate labels removed\n",
      "\u001b[34m\u001b[1mtrain: \u001b[0mWARNING ⚠️ /home/aluno/Documentos/Unreal_Training/Unreal_Ship_Detection_Yollov8/datasets/Unreal_Ships_detection-2/train/images/IMG-3569-_bmp.rf.db2c4079acf837ea66957dd5f9194c30.jpg: 1 duplicate labels removed\n",
      "\u001b[34m\u001b[1mtrain: \u001b[0mWARNING ⚠️ /home/aluno/Documentos/Unreal_Training/Unreal_Ship_Detection_Yollov8/datasets/Unreal_Ships_detection-2/train/images/IMG-7956-_bmp.rf.06660853e22826f06e59fddfdccd6891.jpg: 1 duplicate labels removed\n",
      "\u001b[34m\u001b[1mtrain: \u001b[0mWARNING ⚠️ /home/aluno/Documentos/Unreal_Training/Unreal_Ship_Detection_Yollov8/datasets/Unreal_Ships_detection-2/train/images/IMG-7956-_bmp.rf.5d2064120970dbc388a7c6ef1a222d18.jpg: 1 duplicate labels removed\n",
      "\u001b[34m\u001b[1mtrain: \u001b[0mWARNING ⚠️ /home/aluno/Documentos/Unreal_Training/Unreal_Ship_Detection_Yollov8/datasets/Unreal_Ships_detection-2/train/images/IMG-7956-_bmp.rf.b0adec26c16938ec8b75e112d7a1a221.jpg: 1 duplicate labels removed\n",
      "\u001b[34m\u001b[1mtrain: \u001b[0mCaching images (16.9GB True): 100%|██████████| 15627/15627 [00:26<00:00, \u001b[0m\n",
      "\u001b[34m\u001b[1mval: \u001b[0mScanning /home/aluno/Documentos/Unreal_Training/Unreal_Ship_Detection_Yollo\u001b[0m\n",
      "\u001b[34m\u001b[1mval: \u001b[0mWARNING ⚠️ /home/aluno/Documentos/Unreal_Training/Unreal_Ship_Detection_Yollov8/datasets/Unreal_Ships_detection-2/valid/images/IMG-1041-_bmp.rf.4691e902983a806713570e7bc0e6c2c5.jpg: 1 duplicate labels removed\n",
      "\u001b[34m\u001b[1mval: \u001b[0mWARNING ⚠️ /home/aluno/Documentos/Unreal_Training/Unreal_Ship_Detection_Yollov8/datasets/Unreal_Ships_detection-2/valid/images/IMG-1111-_bmp.rf.e55f61161b8cc7969fa3c476a307c698.jpg: 1 duplicate labels removed\n",
      "\u001b[34m\u001b[1mval: \u001b[0mWARNING ⚠️ /home/aluno/Documentos/Unreal_Training/Unreal_Ship_Detection_Yollov8/datasets/Unreal_Ships_detection-2/valid/images/IMG-1666-_bmp.rf.9299feb46f7a32b20c644bfeec6118fd.jpg: 1 duplicate labels removed\n",
      "\u001b[34m\u001b[1mval: \u001b[0mWARNING ⚠️ /home/aluno/Documentos/Unreal_Training/Unreal_Ship_Detection_Yollov8/datasets/Unreal_Ships_detection-2/valid/images/IMG-3567-_bmp.rf.1734a9a2af9ebac2cfbebaa73c8a5a97.jpg: 1 duplicate labels removed\n",
      "\u001b[34m\u001b[1mval: \u001b[0mWARNING ⚠️ /home/aluno/Documentos/Unreal_Training/Unreal_Ship_Detection_Yollov8/datasets/Unreal_Ships_detection-2/valid/images/IMG-3570-_bmp.rf.20ed8e0dfcd33c65176845c9a8918e7c.jpg: 1 duplicate labels removed\n",
      "\u001b[34m\u001b[1mval: \u001b[0mCaching images (1.6GB True): 100%|██████████| 1493/1493 [00:03<00:00, 406.4\u001b[0m\n",
      "Traceback (most recent call last):\n",
      "  File \"/home/aluno/anaconda3/envs/tensorflow/bin/yolo\", line 8, in <module>\n",
      "    sys.exit(entrypoint())\n",
      "  File \"/home/aluno/anaconda3/envs/tensorflow/lib/python3.8/site-packages/ultralytics/yolo/cfg/__init__.py\", line 249, in entrypoint\n",
      "    getattr(model, mode)(verbose=True, **overrides)\n",
      "  File \"/home/aluno/anaconda3/envs/tensorflow/lib/python3.8/site-packages/ultralytics/yolo/engine/model.py\", line 207, in train\n",
      "    self.trainer.train()\n",
      "  File \"/home/aluno/anaconda3/envs/tensorflow/lib/python3.8/site-packages/ultralytics/yolo/engine/trainer.py\", line 183, in train\n",
      "    self._do_train(int(os.getenv(\"RANK\", -1)), world_size)\n",
      "  File \"/home/aluno/anaconda3/envs/tensorflow/lib/python3.8/site-packages/ultralytics/yolo/engine/trainer.py\", line 248, in _do_train\n",
      "    self._setup_train(rank, world_size)\n",
      "  File \"/home/aluno/anaconda3/envs/tensorflow/lib/python3.8/site-packages/ultralytics/yolo/engine/trainer.py\", line 241, in _setup_train\n",
      "    self.resume_training(ckpt)\n",
      "  File \"/home/aluno/anaconda3/envs/tensorflow/lib/python3.8/site-packages/ultralytics/yolo/engine/trainer.py\", line 541, in resume_training\n",
      "    assert start_epoch > 0, \\\n",
      "AssertionError: /home/aluno/Documentos/Unreal_Training/Unreal_Ship_Detection_Yollov8/runs/detect/train6/weights/last.pt training to 130 epochs is finished, nothing to resume.\n",
      "Start a new training without --resume, i.e. 'yolo task=... mode=train model=/home/aluno/Documentos/Unreal_Training/Unreal_Ship_Detection_Yollov8/runs/detect/train6/weights/last.pt'\n",
      "Sentry is attempting to send 1 pending error messages\n",
      "Waiting up to 2 seconds\n",
      "Press Ctrl-C to quit\n"
     ]
    }
   ],
   "source": [
    "\n",
    "import torch\n",
    "!yolo task=detect mode=train resume model=/home/aluno/Documentos/Unreal_Training/Unreal_Ship_Detection_Yollov8/runs/detect/train6/weights/last.pt data=/home/aluno/Documentos/Unreal_Training/Unreal_Ship_Detection_Yollov8/Unreal_Ships_detection-2/data.yaml epochs=130 imgsz=800 plots=True batch=64 workers=128 device=0 cache=True"
   ]
  },
  {
   "cell_type": "code",
   "execution_count": 24,
   "metadata": {
    "id": "CR-jAxnpa9WR"
   },
   "outputs": [],
   "source": []
  }
 ],
 "metadata": {
  "accelerator": "GPU",
  "colab": {
   "provenance": []
  },
  "gpuClass": "standard",
  "kernelspec": {
   "display_name": "Python 3",
   "language": "python",
   "name": "python3"
  },
  "language_info": {
   "codemirror_mode": {
    "name": "ipython",
    "version": 3
   },
   "file_extension": ".py",
   "mimetype": "text/x-python",
   "name": "python",
   "nbconvert_exporter": "python",
   "pygments_lexer": "ipython3",
   "version": "3.8.12"
  }
 },
 "nbformat": 4,
 "nbformat_minor": 1
}
