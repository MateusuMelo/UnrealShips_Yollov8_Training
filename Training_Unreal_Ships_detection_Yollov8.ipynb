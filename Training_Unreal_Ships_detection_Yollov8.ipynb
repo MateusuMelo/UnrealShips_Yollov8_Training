{
 "cells": [
  {
   "cell_type": "code",
   "execution_count": null,
   "metadata": {
    "colab": {
     "base_uri": "https://localhost:8080/",
     "height": 1000
    },
    "id": "LoG9OddKeeXe",
    "outputId": "1a2563a8-1c85-4cd0-f956-0edc958d20a2"
   },
   "outputs": [
    {
     "name": "stdout",
     "output_type": "stream",
     "text": [
      "Requirement already satisfied: roboflow in /home/aluno/anaconda3/lib/python3.9/site-packages (1.0.9)\n",
      "Requirement already satisfied: idna==2.10 in /home/aluno/anaconda3/lib/python3.9/site-packages (from roboflow) (2.10)\n",
      "Requirement already satisfied: python-dateutil in /home/aluno/anaconda3/lib/python3.9/site-packages (from roboflow) (2.8.2)\n",
      "Requirement already satisfied: numpy>=1.18.5 in /home/aluno/anaconda3/lib/python3.9/site-packages (from roboflow) (1.20.3)\n",
      "Requirement already satisfied: cycler==0.10.0 in /home/aluno/anaconda3/lib/python3.9/site-packages (from roboflow) (0.10.0)\n",
      "Requirement already satisfied: wget in /home/aluno/anaconda3/lib/python3.9/site-packages (from roboflow) (3.2)\n",
      "Requirement already satisfied: kiwisolver>=1.3.1 in /home/aluno/anaconda3/lib/python3.9/site-packages (from roboflow) (1.3.1)\n",
      "Requirement already satisfied: matplotlib in /home/aluno/anaconda3/lib/python3.9/site-packages (from roboflow) (3.4.3)\n",
      "Requirement already satisfied: requests-toolbelt in /home/aluno/anaconda3/lib/python3.9/site-packages (from roboflow) (1.0.0)\n",
      "Requirement already satisfied: PyYAML>=5.3.1 in /home/aluno/anaconda3/lib/python3.9/site-packages (from roboflow) (6.0)\n",
      "Requirement already satisfied: pyparsing==2.4.7 in /home/aluno/anaconda3/lib/python3.9/site-packages (from roboflow) (2.4.7)\n",
      "Requirement already satisfied: requests in /home/aluno/anaconda3/lib/python3.9/site-packages (from roboflow) (2.26.0)\n",
      "Requirement already satisfied: certifi==2022.12.7 in /home/aluno/anaconda3/lib/python3.9/site-packages (from roboflow) (2022.12.7)\n",
      "Requirement already satisfied: opencv-python>=4.1.2 in /home/aluno/anaconda3/lib/python3.9/site-packages (from roboflow) (4.7.0.72)\n",
      "Requirement already satisfied: urllib3>=1.26.6 in /home/aluno/anaconda3/lib/python3.9/site-packages (from roboflow) (1.26.7)\n",
      "Requirement already satisfied: chardet==4.0.0 in /home/aluno/anaconda3/lib/python3.9/site-packages (from roboflow) (4.0.0)\n",
      "Requirement already satisfied: tqdm>=4.41.0 in /home/aluno/anaconda3/lib/python3.9/site-packages (from roboflow) (4.62.3)\n",
      "Requirement already satisfied: Pillow>=7.1.2 in /home/aluno/anaconda3/lib/python3.9/site-packages (from roboflow) (8.4.0)\n",
      "Requirement already satisfied: six in /home/aluno/anaconda3/lib/python3.9/site-packages (from roboflow) (1.16.0)\n",
      "Requirement already satisfied: python-dotenv in /home/aluno/anaconda3/lib/python3.9/site-packages (from roboflow) (1.0.0)\n",
      "Requirement already satisfied: charset-normalizer~=2.0.0 in /home/aluno/anaconda3/lib/python3.9/site-packages (from requests->roboflow) (2.0.4)\n",
      "loading Roboflow workspace...\n",
      "loading Roboflow project...\n",
      "[WARNING] we noticed you are downloading a `yolov8` datasets but you don't have `ultralytics` installed. Roboflow `.deploy` supports only models trained with `ultralytics<=8.0.20`, to intall it `pip install ultralytics<=8.0.20`.\n",
      "Downloading Dataset Version Zip in Unreal_Ships_detection-3 to yolov8: 0% [24567808 / 9248482045] bytes"
     ]
    },
    {
     "name": "stderr",
     "output_type": "stream",
     "text": [
      "IOPub message rate exceeded.\n",
      "The Jupyter server will temporarily stop sending output\n",
      "to the client in order to avoid crashing it.\n",
      "To change this limit, set the config variable\n",
      "`--ServerApp.iopub_msg_rate_limit`.\n",
      "\n",
      "Current values:\n",
      "ServerApp.iopub_msg_rate_limit=1000.0 (msgs/sec)\n",
      "ServerApp.rate_limit_window=3.0 (secs)\n",
      "\n"
     ]
    },
    {
     "name": "stdout",
     "output_type": "stream",
     "text": [
      "Downloading Dataset Version Zip in Unreal_Ships_detection-3 to yolov8: 0% [89333760 / 9248482045] bytes"
     ]
    },
    {
     "name": "stderr",
     "output_type": "stream",
     "text": [
      "IOPub message rate exceeded.\n",
      "The Jupyter server will temporarily stop sending output\n",
      "to the client in order to avoid crashing it.\n",
      "To change this limit, set the config variable\n",
      "`--ServerApp.iopub_msg_rate_limit`.\n",
      "\n",
      "Current values:\n",
      "ServerApp.iopub_msg_rate_limit=1000.0 (msgs/sec)\n",
      "ServerApp.rate_limit_window=3.0 (secs)\n",
      "\n"
     ]
    },
    {
     "name": "stdout",
     "output_type": "stream",
     "text": [
      "Downloading Dataset Version Zip in Unreal_Ships_detection-3 to yolov8: 1% [168189952 / 9248482045] bytes"
     ]
    },
    {
     "name": "stderr",
     "output_type": "stream",
     "text": [
      "IOPub message rate exceeded.\n",
      "The Jupyter server will temporarily stop sending output\n",
      "to the client in order to avoid crashing it.\n",
      "To change this limit, set the config variable\n",
      "`--ServerApp.iopub_msg_rate_limit`.\n",
      "\n",
      "Current values:\n",
      "ServerApp.iopub_msg_rate_limit=1000.0 (msgs/sec)\n",
      "ServerApp.rate_limit_window=3.0 (secs)\n",
      "\n"
     ]
    },
    {
     "name": "stdout",
     "output_type": "stream",
     "text": [
      "Downloading Dataset Version Zip in Unreal_Ships_detection-3 to yolov8: 2% [219119616 / 9248482045] bytes"
     ]
    },
    {
     "name": "stderr",
     "output_type": "stream",
     "text": [
      "IOPub message rate exceeded.\n",
      "The Jupyter server will temporarily stop sending output\n",
      "to the client in order to avoid crashing it.\n",
      "To change this limit, set the config variable\n",
      "`--ServerApp.iopub_msg_rate_limit`.\n",
      "\n",
      "Current values:\n",
      "ServerApp.iopub_msg_rate_limit=1000.0 (msgs/sec)\n",
      "ServerApp.rate_limit_window=3.0 (secs)\n",
      "\n"
     ]
    },
    {
     "name": "stdout",
     "output_type": "stream",
     "text": [
      "Downloading Dataset Version Zip in Unreal_Ships_detection-3 to yolov8: 2% [271400960 / 9248482045] bytes"
     ]
    },
    {
     "name": "stderr",
     "output_type": "stream",
     "text": [
      "IOPub message rate exceeded.\n",
      "The Jupyter server will temporarily stop sending output\n",
      "to the client in order to avoid crashing it.\n",
      "To change this limit, set the config variable\n",
      "`--ServerApp.iopub_msg_rate_limit`.\n",
      "\n",
      "Current values:\n",
      "ServerApp.iopub_msg_rate_limit=1000.0 (msgs/sec)\n",
      "ServerApp.rate_limit_window=3.0 (secs)\n",
      "\n"
     ]
    },
    {
     "name": "stdout",
     "output_type": "stream",
     "text": [
      "Downloading Dataset Version Zip in Unreal_Ships_detection-3 to yolov8: 3% [353574912 / 9248482045] bytes"
     ]
    },
    {
     "name": "stderr",
     "output_type": "stream",
     "text": [
      "IOPub message rate exceeded.\n",
      "The Jupyter server will temporarily stop sending output\n",
      "to the client in order to avoid crashing it.\n",
      "To change this limit, set the config variable\n",
      "`--ServerApp.iopub_msg_rate_limit`.\n",
      "\n",
      "Current values:\n",
      "ServerApp.iopub_msg_rate_limit=1000.0 (msgs/sec)\n",
      "ServerApp.rate_limit_window=3.0 (secs)\n",
      "\n"
     ]
    },
    {
     "name": "stdout",
     "output_type": "stream",
     "text": [
      "Downloading Dataset Version Zip in Unreal_Ships_detection-3 to yolov8: 5% [468451328 / 9248482045] bytes"
     ]
    },
    {
     "name": "stderr",
     "output_type": "stream",
     "text": [
      "IOPub message rate exceeded.\n",
      "The Jupyter server will temporarily stop sending output\n",
      "to the client in order to avoid crashing it.\n",
      "To change this limit, set the config variable\n",
      "`--ServerApp.iopub_msg_rate_limit`.\n",
      "\n",
      "Current values:\n",
      "ServerApp.iopub_msg_rate_limit=1000.0 (msgs/sec)\n",
      "ServerApp.rate_limit_window=3.0 (secs)\n",
      "\n"
     ]
    },
    {
     "name": "stdout",
     "output_type": "stream",
     "text": [
      "Downloading Dataset Version Zip in Unreal_Ships_detection-3 to yolov8: 6% [587268096 / 9248482045] bytes"
     ]
    },
    {
     "name": "stderr",
     "output_type": "stream",
     "text": [
      "IOPub message rate exceeded.\n",
      "The Jupyter server will temporarily stop sending output\n",
      "to the client in order to avoid crashing it.\n",
      "To change this limit, set the config variable\n",
      "`--ServerApp.iopub_msg_rate_limit`.\n",
      "\n",
      "Current values:\n",
      "ServerApp.iopub_msg_rate_limit=1000.0 (msgs/sec)\n",
      "ServerApp.rate_limit_window=3.0 (secs)\n",
      "\n"
     ]
    },
    {
     "name": "stdout",
     "output_type": "stream",
     "text": [
      "Downloading Dataset Version Zip in Unreal_Ships_detection-3 to yolov8: 7% [695975936 / 9248482045] bytes"
     ]
    },
    {
     "name": "stderr",
     "output_type": "stream",
     "text": [
      "IOPub message rate exceeded.\n",
      "The Jupyter server will temporarily stop sending output\n",
      "to the client in order to avoid crashing it.\n",
      "To change this limit, set the config variable\n",
      "`--ServerApp.iopub_msg_rate_limit`.\n",
      "\n",
      "Current values:\n",
      "ServerApp.iopub_msg_rate_limit=1000.0 (msgs/sec)\n",
      "ServerApp.rate_limit_window=3.0 (secs)\n",
      "\n"
     ]
    },
    {
     "name": "stdout",
     "output_type": "stream",
     "text": [
      "Downloading Dataset Version Zip in Unreal_Ships_detection-3 to yolov8: 8% [789577728 / 9248482045] bytes"
     ]
    },
    {
     "name": "stderr",
     "output_type": "stream",
     "text": [
      "IOPub message rate exceeded.\n",
      "The Jupyter server will temporarily stop sending output\n",
      "to the client in order to avoid crashing it.\n",
      "To change this limit, set the config variable\n",
      "`--ServerApp.iopub_msg_rate_limit`.\n",
      "\n",
      "Current values:\n",
      "ServerApp.iopub_msg_rate_limit=1000.0 (msgs/sec)\n",
      "ServerApp.rate_limit_window=3.0 (secs)\n",
      "\n"
     ]
    },
    {
     "name": "stdout",
     "output_type": "stream",
     "text": [
      "Downloading Dataset Version Zip in Unreal_Ships_detection-3 to yolov8: 9% [914219008 / 9248482045] bytes"
     ]
    },
    {
     "name": "stderr",
     "output_type": "stream",
     "text": [
      "IOPub message rate exceeded.\n",
      "The Jupyter server will temporarily stop sending output\n",
      "to the client in order to avoid crashing it.\n",
      "To change this limit, set the config variable\n",
      "`--ServerApp.iopub_msg_rate_limit`.\n",
      "\n",
      "Current values:\n",
      "ServerApp.iopub_msg_rate_limit=1000.0 (msgs/sec)\n",
      "ServerApp.rate_limit_window=3.0 (secs)\n",
      "\n"
     ]
    },
    {
     "name": "stdout",
     "output_type": "stream",
     "text": [
      "Downloading Dataset Version Zip in Unreal_Ships_detection-3 to yolov8: 11% [1020993536 / 9248482045] bytes"
     ]
    },
    {
     "name": "stderr",
     "output_type": "stream",
     "text": [
      "IOPub message rate exceeded.\n",
      "The Jupyter server will temporarily stop sending output\n",
      "to the client in order to avoid crashing it.\n",
      "To change this limit, set the config variable\n",
      "`--ServerApp.iopub_msg_rate_limit`.\n",
      "\n",
      "Current values:\n",
      "ServerApp.iopub_msg_rate_limit=1000.0 (msgs/sec)\n",
      "ServerApp.rate_limit_window=3.0 (secs)\n",
      "\n"
     ]
    },
    {
     "name": "stdout",
     "output_type": "stream",
     "text": [
      "Downloading Dataset Version Zip in Unreal_Ships_detection-3 to yolov8: 12% [1170407424 / 9248482045] bytes"
     ]
    },
    {
     "name": "stderr",
     "output_type": "stream",
     "text": [
      "IOPub message rate exceeded.\n",
      "The Jupyter server will temporarily stop sending output\n",
      "to the client in order to avoid crashing it.\n",
      "To change this limit, set the config variable\n",
      "`--ServerApp.iopub_msg_rate_limit`.\n",
      "\n",
      "Current values:\n",
      "ServerApp.iopub_msg_rate_limit=1000.0 (msgs/sec)\n",
      "ServerApp.rate_limit_window=3.0 (secs)\n",
      "\n"
     ]
    },
    {
     "name": "stdout",
     "output_type": "stream",
     "text": [
      "Downloading Dataset Version Zip in Unreal_Ships_detection-3 to yolov8: 14% [1298636800 / 9248482045] bytes"
     ]
    },
    {
     "name": "stderr",
     "output_type": "stream",
     "text": [
      "IOPub message rate exceeded.\n",
      "The Jupyter server will temporarily stop sending output\n",
      "to the client in order to avoid crashing it.\n",
      "To change this limit, set the config variable\n",
      "`--ServerApp.iopub_msg_rate_limit`.\n",
      "\n",
      "Current values:\n",
      "ServerApp.iopub_msg_rate_limit=1000.0 (msgs/sec)\n",
      "ServerApp.rate_limit_window=3.0 (secs)\n",
      "\n"
     ]
    },
    {
     "name": "stdout",
     "output_type": "stream",
     "text": [
      "Downloading Dataset Version Zip in Unreal_Ships_detection-3 to yolov8: 15% [1415249920 / 9248482045] bytes"
     ]
    },
    {
     "name": "stderr",
     "output_type": "stream",
     "text": [
      "IOPub message rate exceeded.\n",
      "The Jupyter server will temporarily stop sending output\n",
      "to the client in order to avoid crashing it.\n",
      "To change this limit, set the config variable\n",
      "`--ServerApp.iopub_msg_rate_limit`.\n",
      "\n",
      "Current values:\n",
      "ServerApp.iopub_msg_rate_limit=1000.0 (msgs/sec)\n",
      "ServerApp.rate_limit_window=3.0 (secs)\n",
      "\n"
     ]
    },
    {
     "name": "stdout",
     "output_type": "stream",
     "text": [
      "Downloading Dataset Version Zip in Unreal_Ships_detection-3 to yolov8: 16% [1521123328 / 9248482045] bytes"
     ]
    },
    {
     "name": "stderr",
     "output_type": "stream",
     "text": [
      "IOPub message rate exceeded.\n",
      "The Jupyter server will temporarily stop sending output\n",
      "to the client in order to avoid crashing it.\n",
      "To change this limit, set the config variable\n",
      "`--ServerApp.iopub_msg_rate_limit`.\n",
      "\n",
      "Current values:\n",
      "ServerApp.iopub_msg_rate_limit=1000.0 (msgs/sec)\n",
      "ServerApp.rate_limit_window=3.0 (secs)\n",
      "\n"
     ]
    },
    {
     "name": "stdout",
     "output_type": "stream",
     "text": [
      "Downloading Dataset Version Zip in Unreal_Ships_detection-3 to yolov8: 17% [1620754432 / 9248482045] bytes"
     ]
    },
    {
     "name": "stderr",
     "output_type": "stream",
     "text": [
      "IOPub message rate exceeded.\n",
      "The Jupyter server will temporarily stop sending output\n",
      "to the client in order to avoid crashing it.\n",
      "To change this limit, set the config variable\n",
      "`--ServerApp.iopub_msg_rate_limit`.\n",
      "\n",
      "Current values:\n",
      "ServerApp.iopub_msg_rate_limit=1000.0 (msgs/sec)\n",
      "ServerApp.rate_limit_window=3.0 (secs)\n",
      "\n"
     ]
    },
    {
     "name": "stdout",
     "output_type": "stream",
     "text": [
      "Downloading Dataset Version Zip in Unreal_Ships_detection-3 to yolov8: 18% [1755578368 / 9248482045] bytes"
     ]
    },
    {
     "name": "stderr",
     "output_type": "stream",
     "text": [
      "IOPub message rate exceeded.\n",
      "The Jupyter server will temporarily stop sending output\n",
      "to the client in order to avoid crashing it.\n",
      "To change this limit, set the config variable\n",
      "`--ServerApp.iopub_msg_rate_limit`.\n",
      "\n",
      "Current values:\n",
      "ServerApp.iopub_msg_rate_limit=1000.0 (msgs/sec)\n",
      "ServerApp.rate_limit_window=3.0 (secs)\n",
      "\n"
     ]
    },
    {
     "name": "stdout",
     "output_type": "stream",
     "text": [
      "Downloading Dataset Version Zip in Unreal_Ships_detection-3 to yolov8: 20% [1859674112 / 9248482045] bytes"
     ]
    },
    {
     "name": "stderr",
     "output_type": "stream",
     "text": [
      "IOPub message rate exceeded.\n",
      "The Jupyter server will temporarily stop sending output\n",
      "to the client in order to avoid crashing it.\n",
      "To change this limit, set the config variable\n",
      "`--ServerApp.iopub_msg_rate_limit`.\n",
      "\n",
      "Current values:\n",
      "ServerApp.iopub_msg_rate_limit=1000.0 (msgs/sec)\n",
      "ServerApp.rate_limit_window=3.0 (secs)\n",
      "\n"
     ]
    },
    {
     "name": "stdout",
     "output_type": "stream",
     "text": [
      "Downloading Dataset Version Zip in Unreal_Ships_detection-3 to yolov8: 21% [1963261952 / 9248482045] bytes"
     ]
    },
    {
     "name": "stderr",
     "output_type": "stream",
     "text": [
      "IOPub message rate exceeded.\n",
      "The Jupyter server will temporarily stop sending output\n",
      "to the client in order to avoid crashing it.\n",
      "To change this limit, set the config variable\n",
      "`--ServerApp.iopub_msg_rate_limit`.\n",
      "\n",
      "Current values:\n",
      "ServerApp.iopub_msg_rate_limit=1000.0 (msgs/sec)\n",
      "ServerApp.rate_limit_window=3.0 (secs)\n",
      "\n"
     ]
    },
    {
     "name": "stdout",
     "output_type": "stream",
     "text": [
      "Downloading Dataset Version Zip in Unreal_Ships_detection-3 to yolov8: 22% [2075353088 / 9248482045] bytes"
     ]
    },
    {
     "name": "stderr",
     "output_type": "stream",
     "text": [
      "IOPub message rate exceeded.\n",
      "The Jupyter server will temporarily stop sending output\n",
      "to the client in order to avoid crashing it.\n",
      "To change this limit, set the config variable\n",
      "`--ServerApp.iopub_msg_rate_limit`.\n",
      "\n",
      "Current values:\n",
      "ServerApp.iopub_msg_rate_limit=1000.0 (msgs/sec)\n",
      "ServerApp.rate_limit_window=3.0 (secs)\n",
      "\n"
     ]
    },
    {
     "name": "stdout",
     "output_type": "stream",
     "text": [
      "Downloading Dataset Version Zip in Unreal_Ships_detection-3 to yolov8: 23% [2188435456 / 9248482045] bytes"
     ]
    },
    {
     "name": "stderr",
     "output_type": "stream",
     "text": [
      "IOPub message rate exceeded.\n",
      "The Jupyter server will temporarily stop sending output\n",
      "to the client in order to avoid crashing it.\n",
      "To change this limit, set the config variable\n",
      "`--ServerApp.iopub_msg_rate_limit`.\n",
      "\n",
      "Current values:\n",
      "ServerApp.iopub_msg_rate_limit=1000.0 (msgs/sec)\n",
      "ServerApp.rate_limit_window=3.0 (secs)\n",
      "\n"
     ]
    },
    {
     "name": "stdout",
     "output_type": "stream",
     "text": [
      "Downloading Dataset Version Zip in Unreal_Ships_detection-3 to yolov8: 24% [2309160960 / 9248482045] bytes"
     ]
    },
    {
     "name": "stderr",
     "output_type": "stream",
     "text": [
      "IOPub message rate exceeded.\n",
      "The Jupyter server will temporarily stop sending output\n",
      "to the client in order to avoid crashing it.\n",
      "To change this limit, set the config variable\n",
      "`--ServerApp.iopub_msg_rate_limit`.\n",
      "\n",
      "Current values:\n",
      "ServerApp.iopub_msg_rate_limit=1000.0 (msgs/sec)\n",
      "ServerApp.rate_limit_window=3.0 (secs)\n",
      "\n"
     ]
    },
    {
     "name": "stdout",
     "output_type": "stream",
     "text": [
      "Downloading Dataset Version Zip in Unreal_Ships_detection-3 to yolov8: 26% [2413748224 / 9248482045] bytes"
     ]
    },
    {
     "name": "stderr",
     "output_type": "stream",
     "text": [
      "IOPub message rate exceeded.\n",
      "The Jupyter server will temporarily stop sending output\n",
      "to the client in order to avoid crashing it.\n",
      "To change this limit, set the config variable\n",
      "`--ServerApp.iopub_msg_rate_limit`.\n",
      "\n",
      "Current values:\n",
      "ServerApp.iopub_msg_rate_limit=1000.0 (msgs/sec)\n",
      "ServerApp.rate_limit_window=3.0 (secs)\n",
      "\n"
     ]
    },
    {
     "name": "stdout",
     "output_type": "stream",
     "text": [
      "Downloading Dataset Version Zip in Unreal_Ships_detection-3 to yolov8: 27% [2529312768 / 9248482045] bytes"
     ]
    },
    {
     "name": "stderr",
     "output_type": "stream",
     "text": [
      "IOPub message rate exceeded.\n",
      "The Jupyter server will temporarily stop sending output\n",
      "to the client in order to avoid crashing it.\n",
      "To change this limit, set the config variable\n",
      "`--ServerApp.iopub_msg_rate_limit`.\n",
      "\n",
      "Current values:\n",
      "ServerApp.iopub_msg_rate_limit=1000.0 (msgs/sec)\n",
      "ServerApp.rate_limit_window=3.0 (secs)\n",
      "\n"
     ]
    },
    {
     "name": "stdout",
     "output_type": "stream",
     "text": [
      "Downloading Dataset Version Zip in Unreal_Ships_detection-3 to yolov8: 28% [2665627648 / 9248482045] bytes"
     ]
    },
    {
     "name": "stderr",
     "output_type": "stream",
     "text": [
      "IOPub message rate exceeded.\n",
      "The Jupyter server will temporarily stop sending output\n",
      "to the client in order to avoid crashing it.\n",
      "To change this limit, set the config variable\n",
      "`--ServerApp.iopub_msg_rate_limit`.\n",
      "\n",
      "Current values:\n",
      "ServerApp.iopub_msg_rate_limit=1000.0 (msgs/sec)\n",
      "ServerApp.rate_limit_window=3.0 (secs)\n",
      "\n"
     ]
    },
    {
     "name": "stdout",
     "output_type": "stream",
     "text": [
      "Downloading Dataset Version Zip in Unreal_Ships_detection-3 to yolov8: 29% [2759786496 / 9248482045] bytes"
     ]
    },
    {
     "name": "stderr",
     "output_type": "stream",
     "text": [
      "IOPub message rate exceeded.\n",
      "The Jupyter server will temporarily stop sending output\n",
      "to the client in order to avoid crashing it.\n",
      "To change this limit, set the config variable\n",
      "`--ServerApp.iopub_msg_rate_limit`.\n",
      "\n",
      "Current values:\n",
      "ServerApp.iopub_msg_rate_limit=1000.0 (msgs/sec)\n",
      "ServerApp.rate_limit_window=3.0 (secs)\n",
      "\n"
     ]
    },
    {
     "name": "stdout",
     "output_type": "stream",
     "text": [
      "Downloading Dataset Version Zip in Unreal_Ships_detection-3 to yolov8: 31% [2868789248 / 9248482045] bytes"
     ]
    },
    {
     "name": "stderr",
     "output_type": "stream",
     "text": [
      "IOPub message rate exceeded.\n",
      "The Jupyter server will temporarily stop sending output\n",
      "to the client in order to avoid crashing it.\n",
      "To change this limit, set the config variable\n",
      "`--ServerApp.iopub_msg_rate_limit`.\n",
      "\n",
      "Current values:\n",
      "ServerApp.iopub_msg_rate_limit=1000.0 (msgs/sec)\n",
      "ServerApp.rate_limit_window=3.0 (secs)\n",
      "\n"
     ]
    },
    {
     "name": "stdout",
     "output_type": "stream",
     "text": [
      "Downloading Dataset Version Zip in Unreal_Ships_detection-3 to yolov8: 32% [3001057280 / 9248482045] bytes"
     ]
    },
    {
     "name": "stderr",
     "output_type": "stream",
     "text": [
      "IOPub message rate exceeded.\n",
      "The Jupyter server will temporarily stop sending output\n",
      "to the client in order to avoid crashing it.\n",
      "To change this limit, set the config variable\n",
      "`--ServerApp.iopub_msg_rate_limit`.\n",
      "\n",
      "Current values:\n",
      "ServerApp.iopub_msg_rate_limit=1000.0 (msgs/sec)\n",
      "ServerApp.rate_limit_window=3.0 (secs)\n",
      "\n"
     ]
    },
    {
     "name": "stdout",
     "output_type": "stream",
     "text": [
      "Downloading Dataset Version Zip in Unreal_Ships_detection-3 to yolov8: 33% [3100221440 / 9248482045] bytes"
     ]
    },
    {
     "name": "stderr",
     "output_type": "stream",
     "text": [
      "IOPub message rate exceeded.\n",
      "The Jupyter server will temporarily stop sending output\n",
      "to the client in order to avoid crashing it.\n",
      "To change this limit, set the config variable\n",
      "`--ServerApp.iopub_msg_rate_limit`.\n",
      "\n",
      "Current values:\n",
      "ServerApp.iopub_msg_rate_limit=1000.0 (msgs/sec)\n",
      "ServerApp.rate_limit_window=3.0 (secs)\n",
      "\n"
     ]
    },
    {
     "name": "stdout",
     "output_type": "stream",
     "text": [
      "Downloading Dataset Version Zip in Unreal_Ships_detection-3 to yolov8: 35% [3238305792 / 9248482045] bytes"
     ]
    },
    {
     "name": "stderr",
     "output_type": "stream",
     "text": [
      "IOPub message rate exceeded.\n",
      "The Jupyter server will temporarily stop sending output\n",
      "to the client in order to avoid crashing it.\n",
      "To change this limit, set the config variable\n",
      "`--ServerApp.iopub_msg_rate_limit`.\n",
      "\n",
      "Current values:\n",
      "ServerApp.iopub_msg_rate_limit=1000.0 (msgs/sec)\n",
      "ServerApp.rate_limit_window=3.0 (secs)\n",
      "\n"
     ]
    },
    {
     "name": "stdout",
     "output_type": "stream",
     "text": [
      "Downloading Dataset Version Zip in Unreal_Ships_detection-3 to yolov8: 36% [3332415488 / 9248482045] bytes"
     ]
    },
    {
     "name": "stderr",
     "output_type": "stream",
     "text": [
      "IOPub message rate exceeded.\n",
      "The Jupyter server will temporarily stop sending output\n",
      "to the client in order to avoid crashing it.\n",
      "To change this limit, set the config variable\n",
      "`--ServerApp.iopub_msg_rate_limit`.\n",
      "\n",
      "Current values:\n",
      "ServerApp.iopub_msg_rate_limit=1000.0 (msgs/sec)\n",
      "ServerApp.rate_limit_window=3.0 (secs)\n",
      "\n"
     ]
    },
    {
     "name": "stdout",
     "output_type": "stream",
     "text": [
      "Downloading Dataset Version Zip in Unreal_Ships_detection-3 to yolov8: 37% [3429318656 / 9248482045] bytes"
     ]
    },
    {
     "name": "stderr",
     "output_type": "stream",
     "text": [
      "IOPub message rate exceeded.\n",
      "The Jupyter server will temporarily stop sending output\n",
      "to the client in order to avoid crashing it.\n",
      "To change this limit, set the config variable\n",
      "`--ServerApp.iopub_msg_rate_limit`.\n",
      "\n",
      "Current values:\n",
      "ServerApp.iopub_msg_rate_limit=1000.0 (msgs/sec)\n",
      "ServerApp.rate_limit_window=3.0 (secs)\n",
      "\n"
     ]
    },
    {
     "name": "stdout",
     "output_type": "stream",
     "text": [
      "Downloading Dataset Version Zip in Unreal_Ships_detection-3 to yolov8: 38% [3543449600 / 9248482045] bytes"
     ]
    },
    {
     "name": "stderr",
     "output_type": "stream",
     "text": [
      "IOPub message rate exceeded.\n",
      "The Jupyter server will temporarily stop sending output\n",
      "to the client in order to avoid crashing it.\n",
      "To change this limit, set the config variable\n",
      "`--ServerApp.iopub_msg_rate_limit`.\n",
      "\n",
      "Current values:\n",
      "ServerApp.iopub_msg_rate_limit=1000.0 (msgs/sec)\n",
      "ServerApp.rate_limit_window=3.0 (secs)\n",
      "\n"
     ]
    },
    {
     "name": "stdout",
     "output_type": "stream",
     "text": [
      "Downloading Dataset Version Zip in Unreal_Ships_detection-3 to yolov8: 39% [3658899456 / 9248482045] bytes"
     ]
    },
    {
     "name": "stderr",
     "output_type": "stream",
     "text": [
      "IOPub message rate exceeded.\n",
      "The Jupyter server will temporarily stop sending output\n",
      "to the client in order to avoid crashing it.\n",
      "To change this limit, set the config variable\n",
      "`--ServerApp.iopub_msg_rate_limit`.\n",
      "\n",
      "Current values:\n",
      "ServerApp.iopub_msg_rate_limit=1000.0 (msgs/sec)\n",
      "ServerApp.rate_limit_window=3.0 (secs)\n",
      "\n"
     ]
    },
    {
     "name": "stdout",
     "output_type": "stream",
     "text": [
      "Downloading Dataset Version Zip in Unreal_Ships_detection-3 to yolov8: 40% [3758596096 / 9248482045] bytes"
     ]
    },
    {
     "name": "stderr",
     "output_type": "stream",
     "text": [
      "IOPub message rate exceeded.\n",
      "The Jupyter server will temporarily stop sending output\n",
      "to the client in order to avoid crashing it.\n",
      "To change this limit, set the config variable\n",
      "`--ServerApp.iopub_msg_rate_limit`.\n",
      "\n",
      "Current values:\n",
      "ServerApp.iopub_msg_rate_limit=1000.0 (msgs/sec)\n",
      "ServerApp.rate_limit_window=3.0 (secs)\n",
      "\n"
     ]
    },
    {
     "name": "stdout",
     "output_type": "stream",
     "text": [
      "Downloading Dataset Version Zip in Unreal_Ships_detection-3 to yolov8: 42% [3893895168 / 9248482045] bytes"
     ]
    },
    {
     "name": "stderr",
     "output_type": "stream",
     "text": [
      "IOPub message rate exceeded.\n",
      "The Jupyter server will temporarily stop sending output\n",
      "to the client in order to avoid crashing it.\n",
      "To change this limit, set the config variable\n",
      "`--ServerApp.iopub_msg_rate_limit`.\n",
      "\n",
      "Current values:\n",
      "ServerApp.iopub_msg_rate_limit=1000.0 (msgs/sec)\n",
      "ServerApp.rate_limit_window=3.0 (secs)\n",
      "\n"
     ]
    },
    {
     "name": "stdout",
     "output_type": "stream",
     "text": [
      "Downloading Dataset Version Zip in Unreal_Ships_detection-3 to yolov8: 43% [4004536320 / 9248482045] bytes"
     ]
    },
    {
     "name": "stderr",
     "output_type": "stream",
     "text": [
      "IOPub message rate exceeded.\n",
      "The Jupyter server will temporarily stop sending output\n",
      "to the client in order to avoid crashing it.\n",
      "To change this limit, set the config variable\n",
      "`--ServerApp.iopub_msg_rate_limit`.\n",
      "\n",
      "Current values:\n",
      "ServerApp.iopub_msg_rate_limit=1000.0 (msgs/sec)\n",
      "ServerApp.rate_limit_window=3.0 (secs)\n",
      "\n"
     ]
    },
    {
     "name": "stdout",
     "output_type": "stream",
     "text": [
      "Downloading Dataset Version Zip in Unreal_Ships_detection-3 to yolov8: 44% [4091043840 / 9248482045] bytes"
     ]
    },
    {
     "name": "stderr",
     "output_type": "stream",
     "text": [
      "IOPub message rate exceeded.\n",
      "The Jupyter server will temporarily stop sending output\n",
      "to the client in order to avoid crashing it.\n",
      "To change this limit, set the config variable\n",
      "`--ServerApp.iopub_msg_rate_limit`.\n",
      "\n",
      "Current values:\n",
      "ServerApp.iopub_msg_rate_limit=1000.0 (msgs/sec)\n",
      "ServerApp.rate_limit_window=3.0 (secs)\n",
      "\n"
     ]
    },
    {
     "name": "stdout",
     "output_type": "stream",
     "text": [
      "Downloading Dataset Version Zip in Unreal_Ships_detection-3 to yolov8: 45% [4205436928 / 9248482045] bytes"
     ]
    },
    {
     "name": "stderr",
     "output_type": "stream",
     "text": [
      "IOPub message rate exceeded.\n",
      "The Jupyter server will temporarily stop sending output\n",
      "to the client in order to avoid crashing it.\n",
      "To change this limit, set the config variable\n",
      "`--ServerApp.iopub_msg_rate_limit`.\n",
      "\n",
      "Current values:\n",
      "ServerApp.iopub_msg_rate_limit=1000.0 (msgs/sec)\n",
      "ServerApp.rate_limit_window=3.0 (secs)\n",
      "\n"
     ]
    },
    {
     "name": "stdout",
     "output_type": "stream",
     "text": [
      "Downloading Dataset Version Zip in Unreal_Ships_detection-3 to yolov8: 46% [4330373120 / 9248482045] bytes"
     ]
    },
    {
     "name": "stderr",
     "output_type": "stream",
     "text": [
      "IOPub message rate exceeded.\n",
      "The Jupyter server will temporarily stop sending output\n",
      "to the client in order to avoid crashing it.\n",
      "To change this limit, set the config variable\n",
      "`--ServerApp.iopub_msg_rate_limit`.\n",
      "\n",
      "Current values:\n",
      "ServerApp.iopub_msg_rate_limit=1000.0 (msgs/sec)\n",
      "ServerApp.rate_limit_window=3.0 (secs)\n",
      "\n"
     ]
    },
    {
     "name": "stdout",
     "output_type": "stream",
     "text": [
      "Downloading Dataset Version Zip in Unreal_Ships_detection-3 to yolov8: 48% [4457881600 / 9248482045] bytes"
     ]
    },
    {
     "name": "stderr",
     "output_type": "stream",
     "text": [
      "IOPub message rate exceeded.\n",
      "The Jupyter server will temporarily stop sending output\n",
      "to the client in order to avoid crashing it.\n",
      "To change this limit, set the config variable\n",
      "`--ServerApp.iopub_msg_rate_limit`.\n",
      "\n",
      "Current values:\n",
      "ServerApp.iopub_msg_rate_limit=1000.0 (msgs/sec)\n",
      "ServerApp.rate_limit_window=3.0 (secs)\n",
      "\n"
     ]
    },
    {
     "name": "stdout",
     "output_type": "stream",
     "text": [
      "Downloading Dataset Version Zip in Unreal_Ships_detection-3 to yolov8: 49% [4575936512 / 9248482045] bytes"
     ]
    },
    {
     "name": "stderr",
     "output_type": "stream",
     "text": [
      "IOPub message rate exceeded.\n",
      "The Jupyter server will temporarily stop sending output\n",
      "to the client in order to avoid crashing it.\n",
      "To change this limit, set the config variable\n",
      "`--ServerApp.iopub_msg_rate_limit`.\n",
      "\n",
      "Current values:\n",
      "ServerApp.iopub_msg_rate_limit=1000.0 (msgs/sec)\n",
      "ServerApp.rate_limit_window=3.0 (secs)\n",
      "\n"
     ]
    },
    {
     "name": "stdout",
     "output_type": "stream",
     "text": [
      "Downloading Dataset Version Zip in Unreal_Ships_detection-3 to yolov8: 50% [4672962560 / 9248482045] bytes"
     ]
    },
    {
     "name": "stderr",
     "output_type": "stream",
     "text": [
      "IOPub message rate exceeded.\n",
      "The Jupyter server will temporarily stop sending output\n",
      "to the client in order to avoid crashing it.\n",
      "To change this limit, set the config variable\n",
      "`--ServerApp.iopub_msg_rate_limit`.\n",
      "\n",
      "Current values:\n",
      "ServerApp.iopub_msg_rate_limit=1000.0 (msgs/sec)\n",
      "ServerApp.rate_limit_window=3.0 (secs)\n",
      "\n"
     ]
    },
    {
     "name": "stdout",
     "output_type": "stream",
     "text": [
      "Downloading Dataset Version Zip in Unreal_Ships_detection-3 to yolov8: 51% [4790910976 / 9248482045] bytes"
     ]
    },
    {
     "name": "stderr",
     "output_type": "stream",
     "text": [
      "IOPub message rate exceeded.\n",
      "The Jupyter server will temporarily stop sending output\n",
      "to the client in order to avoid crashing it.\n",
      "To change this limit, set the config variable\n",
      "`--ServerApp.iopub_msg_rate_limit`.\n",
      "\n",
      "Current values:\n",
      "ServerApp.iopub_msg_rate_limit=1000.0 (msgs/sec)\n",
      "ServerApp.rate_limit_window=3.0 (secs)\n",
      "\n"
     ]
    },
    {
     "name": "stdout",
     "output_type": "stream",
     "text": [
      "Downloading Dataset Version Zip in Unreal_Ships_detection-3 to yolov8: 52% [4899954688 / 9248482045] bytes"
     ]
    },
    {
     "name": "stderr",
     "output_type": "stream",
     "text": [
      "IOPub message rate exceeded.\n",
      "The Jupyter server will temporarily stop sending output\n",
      "to the client in order to avoid crashing it.\n",
      "To change this limit, set the config variable\n",
      "`--ServerApp.iopub_msg_rate_limit`.\n",
      "\n",
      "Current values:\n",
      "ServerApp.iopub_msg_rate_limit=1000.0 (msgs/sec)\n",
      "ServerApp.rate_limit_window=3.0 (secs)\n",
      "\n"
     ]
    },
    {
     "name": "stdout",
     "output_type": "stream",
     "text": [
      "Downloading Dataset Version Zip in Unreal_Ships_detection-3 to yolov8: 54% [5029085184 / 9248482045] bytes"
     ]
    },
    {
     "name": "stderr",
     "output_type": "stream",
     "text": [
      "IOPub message rate exceeded.\n",
      "The Jupyter server will temporarily stop sending output\n",
      "to the client in order to avoid crashing it.\n",
      "To change this limit, set the config variable\n",
      "`--ServerApp.iopub_msg_rate_limit`.\n",
      "\n",
      "Current values:\n",
      "ServerApp.iopub_msg_rate_limit=1000.0 (msgs/sec)\n",
      "ServerApp.rate_limit_window=3.0 (secs)\n",
      "\n"
     ]
    },
    {
     "name": "stdout",
     "output_type": "stream",
     "text": [
      "Downloading Dataset Version Zip in Unreal_Ships_detection-3 to yolov8: 55% [5147656192 / 9248482045] bytes"
     ]
    },
    {
     "name": "stderr",
     "output_type": "stream",
     "text": [
      "IOPub message rate exceeded.\n",
      "The Jupyter server will temporarily stop sending output\n",
      "to the client in order to avoid crashing it.\n",
      "To change this limit, set the config variable\n",
      "`--ServerApp.iopub_msg_rate_limit`.\n",
      "\n",
      "Current values:\n",
      "ServerApp.iopub_msg_rate_limit=1000.0 (msgs/sec)\n",
      "ServerApp.rate_limit_window=3.0 (secs)\n",
      "\n"
     ]
    },
    {
     "name": "stdout",
     "output_type": "stream",
     "text": [
      "Downloading Dataset Version Zip in Unreal_Ships_detection-3 to yolov8: 56% [5196849152 / 9248482045] bytes"
     ]
    }
   ],
   "source": [
    "!pip install roboflow\n",
    "from roboflow import Roboflow\n",
    "rf = Roboflow(api_key=\"NNsjGsIb23GWj3zGDggC\")\n",
    "project = rf.workspace(\"inatel-qxvuj\").project(\"unreal_ships_detection\")\n",
    "dataset = project.version(3).download(\"yolov8\")\n"
   ]
  },
  {
   "cell_type": "code",
   "execution_count": 6,
   "metadata": {
    "colab": {
     "base_uri": "https://localhost:8080/"
    },
    "id": "YwFgHDXMuJSX",
    "outputId": "ce1e535c-407b-4f38-d8b7-d2a1b1c5d0ec"
   },
   "outputs": [
    {
     "name": "stderr",
     "output_type": "stream",
     "text": [
      "Ultralytics YOLOv8.0.117 🚀 Python-3.9.7 torch-2.0.1+cu117 CUDA:0 (NVIDIA GeForce RTX 3090, 24265MiB)\n",
      "Setup complete ✅ (32 CPUs, 125.8 GB RAM, 147.8/1861.4 GB disk)\n"
     ]
    }
   ],
   "source": [
    "!pip install ultralytics\n",
    "from IPython import display\n",
    "display.clear_output()\n",
    "\n",
    "import ultralytics\n",
    "ultralytics.checks()"
   ]
  },
  {
   "cell_type": "code",
   "execution_count": 9,
   "metadata": {
    "id": "Y8cDtxLIBHgQ"
   },
   "outputs": [],
   "source": [
    "#Removing null marked images.\n",
    "import pandas as pd\n",
    "import os\n",
    "\n",
    "path = \"/home/aluno/Documentos/UnrealShips_Yollov8_Training/Unreal_Ships_detection-3/valid\"\n",
    "txt_files = [f for f in os.listdir(os.path.join(path, 'labels')) if f.endswith('.txt')]\n",
    "\n",
    "for filename in txt_files:\n",
    "    # carrega as anotações do arquivo\n",
    "    with open(os.path.join(path, 'labels', filename), 'r') as f:\n",
    "        lines = f.readlines()\n",
    "    # verifica se as anotações correspondem a uma imagem nula\n",
    "    if len(lines) == 0:\n",
    "        # exclui a imagem e o arquivo de anotação correspondente se a imagem for nula\n",
    "        image_file = filename.replace('.txt', '.jpg')\n",
    "        os.remove(os.path.join(path + '/images', image_file))\n",
    "        os.remove(os.path.join(path, 'labels', filename))\n"
   ]
  },
  {
   "cell_type": "code",
   "execution_count": 16,
   "metadata": {},
   "outputs": [
    {
     "data": {
      "text/plain": [
       "{'/home/aluno/Documentos/UnrealShips_Yollov8_Training/Unreal_Ships_detection-3'}"
      ]
     },
     "execution_count": 16,
     "metadata": {},
     "output_type": "execute_result"
    }
   ],
   "source": [
    "{dataset.location}"
   ]
  },
  {
   "cell_type": "code",
   "execution_count": 24,
   "metadata": {
    "colab": {
     "base_uri": "https://localhost:8080/"
    },
    "id": "rTklOIPD4hfR",
    "outputId": "f5028202-d822-407b-a7b5-72d48348151f"
   },
   "outputs": [
    {
     "name": "stdout",
     "output_type": "stream",
     "text": [
      "Ultralytics YOLOv8.0.117 🚀 Python-3.9.7 torch-2.0.1+cu117 CUDA:0 (NVIDIA GeForce RTX 3090, 24265MiB)\n",
      "\u001b[34m\u001b[1myolo/engine/trainer: \u001b[0mtask=detect, mode=train, model=yolov8s.pt, data=/home/aluno/Documentos/UnrealShips_Yollov8_Training/Unreal_Ships_detection-3/data.yaml, epochs=130, patience=50, batch=64, imgsz=800, save=True, save_period=-1, cache=True, device=0, workers=128, project=None, name=None, exist_ok=False, pretrained=False, optimizer=auto, verbose=True, seed=0, deterministic=True, single_cls=False, rect=False, cos_lr=False, close_mosaic=0, resume=False, amp=True, fraction=1.0, profile=False, overlap_mask=True, mask_ratio=4, dropout=0.0, val=True, split=val, save_json=False, save_hybrid=False, conf=None, iou=0.7, max_det=300, half=False, dnn=False, plots=True, source=None, show=False, save_txt=False, save_conf=False, save_crop=False, show_labels=True, show_conf=True, vid_stride=1, line_width=None, visualize=False, augment=False, agnostic_nms=False, classes=None, retina_masks=False, boxes=True, format=torchscript, keras=False, optimize=False, int8=False, dynamic=False, simplify=False, opset=None, workspace=4, nms=False, lr0=0.01, lrf=0.01, momentum=0.937, weight_decay=0.0005, warmup_epochs=3.0, warmup_momentum=0.8, warmup_bias_lr=0.1, box=7.5, cls=0.5, dfl=1.5, pose=12.0, kobj=1.0, label_smoothing=0.0, nbs=64, hsv_h=0.015, hsv_s=0.7, hsv_v=0.4, degrees=0.0, translate=0.1, scale=0.5, shear=0.0, perspective=0.0, flipud=0.0, fliplr=0.5, mosaic=1.0, mixup=0.0, copy_paste=0.0, cfg=None, v5loader=False, tracker=botsort.yaml, save_dir=runs/detect/train15\n",
      "Overriding model.yaml nc=80 with nc=5\n",
      "\n",
      "                   from  n    params  module                                       arguments                     \n",
      "  0                  -1  1       928  ultralytics.nn.modules.conv.Conv             [3, 32, 3, 2]                 \n",
      "  1                  -1  1     18560  ultralytics.nn.modules.conv.Conv             [32, 64, 3, 2]                \n",
      "  2                  -1  1     29056  ultralytics.nn.modules.block.C2f             [64, 64, 1, True]             \n",
      "  3                  -1  1     73984  ultralytics.nn.modules.conv.Conv             [64, 128, 3, 2]               \n",
      "  4                  -1  2    197632  ultralytics.nn.modules.block.C2f             [128, 128, 2, True]           \n",
      "  5                  -1  1    295424  ultralytics.nn.modules.conv.Conv             [128, 256, 3, 2]              \n",
      "  6                  -1  2    788480  ultralytics.nn.modules.block.C2f             [256, 256, 2, True]           \n",
      "  7                  -1  1   1180672  ultralytics.nn.modules.conv.Conv             [256, 512, 3, 2]              \n",
      "  8                  -1  1   1838080  ultralytics.nn.modules.block.C2f             [512, 512, 1, True]           \n",
      "  9                  -1  1    656896  ultralytics.nn.modules.block.SPPF            [512, 512, 5]                 \n",
      " 10                  -1  1         0  torch.nn.modules.upsampling.Upsample         [None, 2, 'nearest']          \n",
      " 11             [-1, 6]  1         0  ultralytics.nn.modules.conv.Concat           [1]                           \n",
      " 12                  -1  1    591360  ultralytics.nn.modules.block.C2f             [768, 256, 1]                 \n",
      " 13                  -1  1         0  torch.nn.modules.upsampling.Upsample         [None, 2, 'nearest']          \n",
      " 14             [-1, 4]  1         0  ultralytics.nn.modules.conv.Concat           [1]                           \n",
      " 15                  -1  1    148224  ultralytics.nn.modules.block.C2f             [384, 128, 1]                 \n",
      " 16                  -1  1    147712  ultralytics.nn.modules.conv.Conv             [128, 128, 3, 2]              \n",
      " 17            [-1, 12]  1         0  ultralytics.nn.modules.conv.Concat           [1]                           \n",
      " 18                  -1  1    493056  ultralytics.nn.modules.block.C2f             [384, 256, 1]                 \n",
      " 19                  -1  1    590336  ultralytics.nn.modules.conv.Conv             [256, 256, 3, 2]              \n",
      " 20             [-1, 9]  1         0  ultralytics.nn.modules.conv.Concat           [1]                           \n",
      " 21                  -1  1   1969152  ultralytics.nn.modules.block.C2f             [768, 512, 1]                 \n",
      " 22        [15, 18, 21]  1   2117983  ultralytics.nn.modules.head.Detect           [5, [128, 256, 512]]          \n",
      "Model summary: 225 layers, 11137535 parameters, 11137519 gradients\n",
      "\n",
      "Transferred 349/355 items from pretrained weights\n",
      "\u001b[34m\u001b[1mTensorBoard: \u001b[0mStart with 'tensorboard --logdir runs/detect/train15', view at http://localhost:6006/\n",
      "\u001b[34m\u001b[1mAMP: \u001b[0mrunning Automatic Mixed Precision (AMP) checks with YOLOv8n...\n",
      "\u001b[34m\u001b[1mAMP: \u001b[0mchecks passed ✅\n",
      "\u001b[34m\u001b[1mtrain: \u001b[0mScanning /home/aluno/Documentos/UnrealShips_Yollov8_Training/Unreal_Ships\u001b[0m\n",
      "\u001b[34m\u001b[1mtrain: \u001b[0mWARNING ⚠️ /home/aluno/Documentos/UnrealShips_Yollov8_Training/Unreal_Ships_detection-3/Unreal_Ships_detection-3/train/images/IMG-1012-_bmp.rf.82d1372bcc1b921b8dcb857b88bb295e.jpg: 1 duplicate labels removed\n",
      "\u001b[34m\u001b[1mtrain: \u001b[0mWARNING ⚠️ /home/aluno/Documentos/UnrealShips_Yollov8_Training/Unreal_Ships_detection-3/Unreal_Ships_detection-3/train/images/IMG-1012-_bmp.rf.b5cfcf0125de1a2859f0485891ac157f.jpg: 1 duplicate labels removed\n",
      "\u001b[34m\u001b[1mtrain: \u001b[0mWARNING ⚠️ /home/aluno/Documentos/UnrealShips_Yollov8_Training/Unreal_Ships_detection-3/Unreal_Ships_detection-3/train/images/IMG-1012-_bmp.rf.cf7e0be1ca2c10b7f36aeba1ce3889b9.jpg: 1 duplicate labels removed\n",
      "\u001b[34m\u001b[1mtrain: \u001b[0mWARNING ⚠️ /home/aluno/Documentos/UnrealShips_Yollov8_Training/Unreal_Ships_detection-3/Unreal_Ships_detection-3/train/images/IMG-1020-_bmp.rf.8990ad8129db9b798f431df9ef8e6350.jpg: 1 duplicate labels removed\n",
      "\u001b[34m\u001b[1mtrain: \u001b[0mWARNING ⚠️ /home/aluno/Documentos/UnrealShips_Yollov8_Training/Unreal_Ships_detection-3/Unreal_Ships_detection-3/train/images/IMG-1020-_bmp.rf.961a3c8e0520cef57899f88a77eb99c3.jpg: 1 duplicate labels removed\n",
      "\u001b[34m\u001b[1mtrain: \u001b[0mWARNING ⚠️ /home/aluno/Documentos/UnrealShips_Yollov8_Training/Unreal_Ships_detection-3/Unreal_Ships_detection-3/train/images/IMG-1020-_bmp.rf.99252a95b9d217b9575e665420e71595.jpg: 1 duplicate labels removed\n",
      "\u001b[34m\u001b[1mtrain: \u001b[0mWARNING ⚠️ /home/aluno/Documentos/UnrealShips_Yollov8_Training/Unreal_Ships_detection-3/Unreal_Ships_detection-3/train/images/IMG-1027-_bmp.rf.03f84617cbaa1f066ab9a46f4d8f0c51.jpg: 2 duplicate labels removed\n",
      "\u001b[34m\u001b[1mtrain: \u001b[0mWARNING ⚠️ /home/aluno/Documentos/UnrealShips_Yollov8_Training/Unreal_Ships_detection-3/Unreal_Ships_detection-3/train/images/IMG-1027-_bmp.rf.56ca69d29b032afbbe5405cf2580b8d4.jpg: 2 duplicate labels removed\n",
      "\u001b[34m\u001b[1mtrain: \u001b[0mWARNING ⚠️ /home/aluno/Documentos/UnrealShips_Yollov8_Training/Unreal_Ships_detection-3/Unreal_Ships_detection-3/train/images/IMG-1027-_bmp.rf.cb5290deeb09a7b7f7faf70c8f853c6a.jpg: 2 duplicate labels removed\n",
      "\u001b[34m\u001b[1mtrain: \u001b[0mWARNING ⚠️ /home/aluno/Documentos/UnrealShips_Yollov8_Training/Unreal_Ships_detection-3/Unreal_Ships_detection-3/train/images/IMG-1028-_bmp.rf.65ddfdf00e2c5872e73f5ea86fbe6342.jpg: 1 duplicate labels removed\n",
      "\u001b[34m\u001b[1mtrain: \u001b[0mWARNING ⚠️ /home/aluno/Documentos/UnrealShips_Yollov8_Training/Unreal_Ships_detection-3/Unreal_Ships_detection-3/train/images/IMG-1028-_bmp.rf.d5d1864cb7f8863ede82052ebe29e157.jpg: 1 duplicate labels removed\n",
      "\u001b[34m\u001b[1mtrain: \u001b[0mWARNING ⚠️ /home/aluno/Documentos/UnrealShips_Yollov8_Training/Unreal_Ships_detection-3/Unreal_Ships_detection-3/train/images/IMG-1028-_bmp.rf.f9ea5a4f667166be620dac00154b7d65.jpg: 1 duplicate labels removed\n",
      "\u001b[34m\u001b[1mtrain: \u001b[0mWARNING ⚠️ /home/aluno/Documentos/UnrealShips_Yollov8_Training/Unreal_Ships_detection-3/Unreal_Ships_detection-3/train/images/IMG-1078-_bmp.rf.100e192bddaa24c9714ff04420527cd2.jpg: 1 duplicate labels removed\n",
      "\u001b[34m\u001b[1mtrain: \u001b[0mWARNING ⚠️ /home/aluno/Documentos/UnrealShips_Yollov8_Training/Unreal_Ships_detection-3/Unreal_Ships_detection-3/train/images/IMG-1078-_bmp.rf.1ab815f6ac7ce8a47fcd96224bc3361e.jpg: 1 duplicate labels removed\n",
      "\u001b[34m\u001b[1mtrain: \u001b[0mWARNING ⚠️ /home/aluno/Documentos/UnrealShips_Yollov8_Training/Unreal_Ships_detection-3/Unreal_Ships_detection-3/train/images/IMG-1078-_bmp.rf.c1005ec32cfda0fb5854af7bc845d396.jpg: 1 duplicate labels removed\n",
      "\u001b[34m\u001b[1mtrain: \u001b[0mWARNING ⚠️ /home/aluno/Documentos/UnrealShips_Yollov8_Training/Unreal_Ships_detection-3/Unreal_Ships_detection-3/train/images/IMG-1079-_bmp.rf.35a12a30fbb8740a5eccb385c5f9044d.jpg: 2 duplicate labels removed\n",
      "\u001b[34m\u001b[1mtrain: \u001b[0mWARNING ⚠️ /home/aluno/Documentos/UnrealShips_Yollov8_Training/Unreal_Ships_detection-3/Unreal_Ships_detection-3/train/images/IMG-1079-_bmp.rf.881f7d27155bd007f65d24283a0858a6.jpg: 2 duplicate labels removed\n",
      "\u001b[34m\u001b[1mtrain: \u001b[0mWARNING ⚠️ /home/aluno/Documentos/UnrealShips_Yollov8_Training/Unreal_Ships_detection-3/Unreal_Ships_detection-3/train/images/IMG-1079-_bmp.rf.f798b1be05b243aa8b0759a4d1e1cd70.jpg: 2 duplicate labels removed\n",
      "\u001b[34m\u001b[1mtrain: \u001b[0mWARNING ⚠️ /home/aluno/Documentos/UnrealShips_Yollov8_Training/Unreal_Ships_detection-3/Unreal_Ships_detection-3/train/images/IMG-1112-_bmp.rf.7ce7f25f293748e66d13ccd4ed11d271.jpg: 1 duplicate labels removed\n",
      "\u001b[34m\u001b[1mtrain: \u001b[0mWARNING ⚠️ /home/aluno/Documentos/UnrealShips_Yollov8_Training/Unreal_Ships_detection-3/Unreal_Ships_detection-3/train/images/IMG-1112-_bmp.rf.93816c71682c9606ce6f6cc9c0148bc3.jpg: 1 duplicate labels removed\n",
      "\u001b[34m\u001b[1mtrain: \u001b[0mWARNING ⚠️ /home/aluno/Documentos/UnrealShips_Yollov8_Training/Unreal_Ships_detection-3/Unreal_Ships_detection-3/train/images/IMG-1112-_bmp.rf.d5fc8338254abdf7137d84ff4625fce5.jpg: 1 duplicate labels removed\n",
      "\u001b[34m\u001b[1mtrain: \u001b[0mWARNING ⚠️ /home/aluno/Documentos/UnrealShips_Yollov8_Training/Unreal_Ships_detection-3/Unreal_Ships_detection-3/train/images/IMG-1140-_bmp.rf.b10185c429fc12ada5705dd6aa170ffe.jpg: 1 duplicate labels removed\n",
      "\u001b[34m\u001b[1mtrain: \u001b[0mWARNING ⚠️ /home/aluno/Documentos/UnrealShips_Yollov8_Training/Unreal_Ships_detection-3/Unreal_Ships_detection-3/train/images/IMG-1140-_bmp.rf.c9a9ea29ea5b506b4942235ee2a0d3f3.jpg: 1 duplicate labels removed\n",
      "\u001b[34m\u001b[1mtrain: \u001b[0mWARNING ⚠️ /home/aluno/Documentos/UnrealShips_Yollov8_Training/Unreal_Ships_detection-3/Unreal_Ships_detection-3/train/images/IMG-1140-_bmp.rf.ce9a17971f4cb565eba30075206bffac.jpg: 1 duplicate labels removed\n",
      "\u001b[34m\u001b[1mtrain: \u001b[0mWARNING ⚠️ /home/aluno/Documentos/UnrealShips_Yollov8_Training/Unreal_Ships_detection-3/Unreal_Ships_detection-3/train/images/IMG-1296-_bmp.rf.0fb66ae13943038ae4f134d7d4f3ed19.jpg: 1 duplicate labels removed\n",
      "\u001b[34m\u001b[1mtrain: \u001b[0mWARNING ⚠️ /home/aluno/Documentos/UnrealShips_Yollov8_Training/Unreal_Ships_detection-3/Unreal_Ships_detection-3/train/images/IMG-1296-_bmp.rf.147b16119b0eec94fea5b2e62506641a.jpg: 1 duplicate labels removed\n",
      "\u001b[34m\u001b[1mtrain: \u001b[0mWARNING ⚠️ /home/aluno/Documentos/UnrealShips_Yollov8_Training/Unreal_Ships_detection-3/Unreal_Ships_detection-3/train/images/IMG-1296-_bmp.rf.8b98a42426d966ea8a2a0d16c6572c22.jpg: 1 duplicate labels removed\n",
      "\u001b[34m\u001b[1mtrain: \u001b[0mWARNING ⚠️ /home/aluno/Documentos/UnrealShips_Yollov8_Training/Unreal_Ships_detection-3/Unreal_Ships_detection-3/train/images/IMG-1297-_bmp.rf.55e95ba0c72c8826a6508d24659aba50.jpg: 1 duplicate labels removed\n",
      "\u001b[34m\u001b[1mtrain: \u001b[0mWARNING ⚠️ /home/aluno/Documentos/UnrealShips_Yollov8_Training/Unreal_Ships_detection-3/Unreal_Ships_detection-3/train/images/IMG-1297-_bmp.rf.5622bf576babfd017e7f202e2aa97f57.jpg: 1 duplicate labels removed\n",
      "\u001b[34m\u001b[1mtrain: \u001b[0mWARNING ⚠️ /home/aluno/Documentos/UnrealShips_Yollov8_Training/Unreal_Ships_detection-3/Unreal_Ships_detection-3/train/images/IMG-1297-_bmp.rf.ec949664663ee15b942e50120b9e2f13.jpg: 1 duplicate labels removed\n",
      "\u001b[34m\u001b[1mtrain: \u001b[0mWARNING ⚠️ /home/aluno/Documentos/UnrealShips_Yollov8_Training/Unreal_Ships_detection-3/Unreal_Ships_detection-3/train/images/IMG-1643-_bmp.rf.95a30ba8c3a6ec686decb98f24acd92f.jpg: 1 duplicate labels removed\n",
      "\u001b[34m\u001b[1mtrain: \u001b[0mWARNING ⚠️ /home/aluno/Documentos/UnrealShips_Yollov8_Training/Unreal_Ships_detection-3/Unreal_Ships_detection-3/train/images/IMG-1643-_bmp.rf.9c86c6bffff60fdb4c9a0d1997ee4cea.jpg: 1 duplicate labels removed\n",
      "\u001b[34m\u001b[1mtrain: \u001b[0mWARNING ⚠️ /home/aluno/Documentos/UnrealShips_Yollov8_Training/Unreal_Ships_detection-3/Unreal_Ships_detection-3/train/images/IMG-1643-_bmp.rf.d23d440479aaa4a824043e35a7c0c121.jpg: 1 duplicate labels removed\n",
      "\u001b[34m\u001b[1mtrain: \u001b[0mWARNING ⚠️ /home/aluno/Documentos/UnrealShips_Yollov8_Training/Unreal_Ships_detection-3/Unreal_Ships_detection-3/train/images/IMG-2869-_bmp.rf.0a0ade45f43e31d1859465b08c6939b2.jpg: 1 duplicate labels removed\n",
      "\u001b[34m\u001b[1mtrain: \u001b[0mWARNING ⚠️ /home/aluno/Documentos/UnrealShips_Yollov8_Training/Unreal_Ships_detection-3/Unreal_Ships_detection-3/train/images/IMG-2869-_bmp.rf.56e5c27df559754b0d18b8d14b8139cc.jpg: 1 duplicate labels removed\n",
      "\u001b[34m\u001b[1mtrain: \u001b[0mWARNING ⚠️ /home/aluno/Documentos/UnrealShips_Yollov8_Training/Unreal_Ships_detection-3/Unreal_Ships_detection-3/train/images/IMG-2869-_bmp.rf.f61929308726a33fc3bf3416234675cd.jpg: 1 duplicate labels removed\n",
      "\u001b[34m\u001b[1mtrain: \u001b[0mWARNING ⚠️ /home/aluno/Documentos/UnrealShips_Yollov8_Training/Unreal_Ships_detection-3/Unreal_Ships_detection-3/train/images/IMG-287-_bmp.rf.159857124d3f1364a1ff0b660fe8b806.jpg: 1 duplicate labels removed\n",
      "\u001b[34m\u001b[1mtrain: \u001b[0mWARNING ⚠️ /home/aluno/Documentos/UnrealShips_Yollov8_Training/Unreal_Ships_detection-3/Unreal_Ships_detection-3/train/images/IMG-287-_bmp.rf.be6c27ef4e13d2528bb3338b018a72f5.jpg: 1 duplicate labels removed\n",
      "\u001b[34m\u001b[1mtrain: \u001b[0mWARNING ⚠️ /home/aluno/Documentos/UnrealShips_Yollov8_Training/Unreal_Ships_detection-3/Unreal_Ships_detection-3/train/images/IMG-287-_bmp.rf.cd310292337169dbc1581f06c805fd66.jpg: 1 duplicate labels removed\n",
      "\u001b[34m\u001b[1mtrain: \u001b[0mWARNING ⚠️ /home/aluno/Documentos/UnrealShips_Yollov8_Training/Unreal_Ships_detection-3/Unreal_Ships_detection-3/train/images/IMG-2870-_bmp.rf.2dbe995b53c75e97eb4377193dc7ede9.jpg: 1 duplicate labels removed\n",
      "\u001b[34m\u001b[1mtrain: \u001b[0mWARNING ⚠️ /home/aluno/Documentos/UnrealShips_Yollov8_Training/Unreal_Ships_detection-3/Unreal_Ships_detection-3/train/images/IMG-2870-_bmp.rf.2ffbb0dc29f471e1b9dea093e2dd19c5.jpg: 1 duplicate labels removed\n",
      "\u001b[34m\u001b[1mtrain: \u001b[0mWARNING ⚠️ /home/aluno/Documentos/UnrealShips_Yollov8_Training/Unreal_Ships_detection-3/Unreal_Ships_detection-3/train/images/IMG-2870-_bmp.rf.69f5a494183e27c984788c68355c9b09.jpg: 1 duplicate labels removed\n",
      "\u001b[34m\u001b[1mtrain: \u001b[0mWARNING ⚠️ /home/aluno/Documentos/UnrealShips_Yollov8_Training/Unreal_Ships_detection-3/Unreal_Ships_detection-3/train/images/IMG-3148-_bmp.rf.1003397b5c4606d20498a653c946e3f5.jpg: 1 duplicate labels removed\n",
      "\u001b[34m\u001b[1mtrain: \u001b[0mWARNING ⚠️ /home/aluno/Documentos/UnrealShips_Yollov8_Training/Unreal_Ships_detection-3/Unreal_Ships_detection-3/train/images/IMG-3148-_bmp.rf.5ef46d21935ea0a0876ea08cbb29211b.jpg: 1 duplicate labels removed\n",
      "\u001b[34m\u001b[1mtrain: \u001b[0mWARNING ⚠️ /home/aluno/Documentos/UnrealShips_Yollov8_Training/Unreal_Ships_detection-3/Unreal_Ships_detection-3/train/images/IMG-3148-_bmp.rf.9f50e041e1f87c7acd95a0e501805ce7.jpg: 1 duplicate labels removed\n",
      "\u001b[34m\u001b[1mtrain: \u001b[0mWARNING ⚠️ /home/aluno/Documentos/UnrealShips_Yollov8_Training/Unreal_Ships_detection-3/Unreal_Ships_detection-3/train/images/IMG-3568-_bmp.rf.0502e647df6c3a88a9d759243970e87d.jpg: 1 duplicate labels removed\n",
      "\u001b[34m\u001b[1mtrain: \u001b[0mWARNING ⚠️ /home/aluno/Documentos/UnrealShips_Yollov8_Training/Unreal_Ships_detection-3/Unreal_Ships_detection-3/train/images/IMG-3568-_bmp.rf.4c076d5a9e12554a684165e62fa5196a.jpg: 1 duplicate labels removed\n",
      "\u001b[34m\u001b[1mtrain: \u001b[0mWARNING ⚠️ /home/aluno/Documentos/UnrealShips_Yollov8_Training/Unreal_Ships_detection-3/Unreal_Ships_detection-3/train/images/IMG-3568-_bmp.rf.852e8114b9ee4d2f5aae9c0f9667e9fc.jpg: 1 duplicate labels removed\n",
      "\u001b[34m\u001b[1mtrain: \u001b[0mWARNING ⚠️ /home/aluno/Documentos/UnrealShips_Yollov8_Training/Unreal_Ships_detection-3/Unreal_Ships_detection-3/train/images/IMG-3569-_bmp.rf.0d261e207e26d44d9e27263c2f6031ad.jpg: 1 duplicate labels removed\n",
      "\u001b[34m\u001b[1mtrain: \u001b[0mWARNING ⚠️ /home/aluno/Documentos/UnrealShips_Yollov8_Training/Unreal_Ships_detection-3/Unreal_Ships_detection-3/train/images/IMG-3569-_bmp.rf.25e21b468bf4cc99a02a99db87858082.jpg: 1 duplicate labels removed\n",
      "\u001b[34m\u001b[1mtrain: \u001b[0mWARNING ⚠️ /home/aluno/Documentos/UnrealShips_Yollov8_Training/Unreal_Ships_detection-3/Unreal_Ships_detection-3/train/images/IMG-3569-_bmp.rf.bbc8c6cf42577a46d93336faf54e9d89.jpg: 1 duplicate labels removed\n",
      "\u001b[34m\u001b[1mtrain: \u001b[0mWARNING ⚠️ /home/aluno/Documentos/UnrealShips_Yollov8_Training/Unreal_Ships_detection-3/Unreal_Ships_detection-3/train/images/IMG-7956-_bmp.rf.998bc7dfa2d2b926aa6aa401ec9261fa.jpg: 1 duplicate labels removed\n",
      "\u001b[34m\u001b[1mtrain: \u001b[0mWARNING ⚠️ /home/aluno/Documentos/UnrealShips_Yollov8_Training/Unreal_Ships_detection-3/Unreal_Ships_detection-3/train/images/IMG-7956-_bmp.rf.cc324c251d4047f0480c55a3d7ad601e.jpg: 1 duplicate labels removed\n",
      "\u001b[34m\u001b[1mtrain: \u001b[0mWARNING ⚠️ /home/aluno/Documentos/UnrealShips_Yollov8_Training/Unreal_Ships_detection-3/Unreal_Ships_detection-3/train/images/IMG-7956-_bmp.rf.d90e9ffe01a6ab7ac5e292167bcd3c21.jpg: 1 duplicate labels removed\n",
      "\u001b[34m\u001b[1mtrain: \u001b[0mNew cache created: /home/aluno/Documentos/UnrealShips_Yollov8_Training/Unreal_Ships_detection-3/Unreal_Ships_detection-3/train/labels.cache\n",
      "\u001b[34m\u001b[1mtrain: \u001b[0mCaching images (21.1GB True): 100%|██████████| 20928/20928 [00:33<00:00, \u001b[0m\n",
      "\u001b[34m\u001b[1mval: \u001b[0mScanning /home/aluno/Documentos/UnrealShips_Yollov8_Training/Unreal_Ships_d\u001b[0m\n",
      "\u001b[34m\u001b[1mval: \u001b[0mWARNING ⚠️ /home/aluno/Documentos/UnrealShips_Yollov8_Training/Unreal_Ships_detection-3/Unreal_Ships_detection-3/valid/images/IMG-1041-_bmp.rf.4691e902983a806713570e7bc0e6c2c5.jpg: 1 duplicate labels removed\n",
      "\u001b[34m\u001b[1mval: \u001b[0mWARNING ⚠️ /home/aluno/Documentos/UnrealShips_Yollov8_Training/Unreal_Ships_detection-3/Unreal_Ships_detection-3/valid/images/IMG-1111-_bmp.rf.e55f61161b8cc7969fa3c476a307c698.jpg: 1 duplicate labels removed\n",
      "\u001b[34m\u001b[1mval: \u001b[0mWARNING ⚠️ /home/aluno/Documentos/UnrealShips_Yollov8_Training/Unreal_Ships_detection-3/Unreal_Ships_detection-3/valid/images/IMG-1666-_bmp.rf.9299feb46f7a32b20c644bfeec6118fd.jpg: 1 duplicate labels removed\n",
      "\u001b[34m\u001b[1mval: \u001b[0mWARNING ⚠️ /home/aluno/Documentos/UnrealShips_Yollov8_Training/Unreal_Ships_detection-3/Unreal_Ships_detection-3/valid/images/IMG-3567-_bmp.rf.1734a9a2af9ebac2cfbebaa73c8a5a97.jpg: 1 duplicate labels removed\n",
      "\u001b[34m\u001b[1mval: \u001b[0mWARNING ⚠️ /home/aluno/Documentos/UnrealShips_Yollov8_Training/Unreal_Ships_detection-3/Unreal_Ships_detection-3/valid/images/IMG-3570-_bmp.rf.20ed8e0dfcd33c65176845c9a8918e7c.jpg: 1 duplicate labels removed\n",
      "\u001b[34m\u001b[1mval: \u001b[0mNew cache created: /home/aluno/Documentos/UnrealShips_Yollov8_Training/Unreal_Ships_detection-3/Unreal_Ships_detection-3/valid/labels.cache\n",
      "\u001b[34m\u001b[1mval: \u001b[0mCaching images (1.9GB True): 100%|██████████| 1871/1871 [00:13<00:00, 135.8\u001b[0m\n",
      "Plotting labels to runs/detect/train15/labels.jpg... \n",
      "\u001b[34m\u001b[1moptimizer:\u001b[0m SGD(lr=0.01, momentum=0.9) with parameter groups 57 weight(decay=0.0), 64 weight(decay=0.0005), 63 bias(decay=0.0)\n",
      "Image sizes 800 train, 800 val\n",
      "Using 32 dataloader workers\n",
      "Logging results to \u001b[1mruns/detect/train15\u001b[0m\n",
      "Starting training for 130 epochs...\n",
      "\n",
      "      Epoch    GPU_mem   box_loss   cls_loss   dfl_loss  Instances       Size\n",
      "      1/130      20.9G      1.148      1.606      1.267        133        800: 1\n",
      "                 Class     Images  Instances      Box(P          R      mAP50  m\n",
      "                   all       1871       1878      0.973      0.976      0.992      0.809\n",
      "\n",
      "      Epoch    GPU_mem   box_loss   cls_loss   dfl_loss  Instances       Size\n",
      "      2/130      20.8G      1.049     0.7536       1.19        148        800: 1\n",
      "                 Class     Images  Instances      Box(P          R      mAP50  m\n",
      "                   all       1871       1878      0.686      0.692      0.721      0.555\n",
      "\n",
      "      Epoch    GPU_mem   box_loss   cls_loss   dfl_loss  Instances       Size\n",
      "      3/130      20.9G      1.103      0.801      1.227        138        800: 1\n",
      "                 Class     Images  Instances      Box(P          R      mAP50  m\n",
      "                   all       1871       1878      0.842       0.82      0.861      0.578\n",
      "\n",
      "      Epoch    GPU_mem   box_loss   cls_loss   dfl_loss  Instances       Size\n",
      "      4/130      20.8G      1.108      0.805      1.239        146        800: 1\n",
      "                 Class     Images  Instances      Box(P          R      mAP50  m\n",
      "                   all       1871       1878      0.974      0.985      0.993      0.777\n",
      "\n",
      "      Epoch    GPU_mem   box_loss   cls_loss   dfl_loss  Instances       Size\n",
      "      5/130      20.8G      1.041     0.7172      1.206        139        800: 1\n",
      "                 Class     Images  Instances      Box(P          R      mAP50  m\n",
      "                   all       1871       1878      0.976      0.991      0.993      0.795\n",
      "\n",
      "      Epoch    GPU_mem   box_loss   cls_loss   dfl_loss  Instances       Size\n",
      "      6/130      20.9G     0.9996     0.6607       1.18        149        800: 1\n",
      "                 Class     Images  Instances      Box(P          R      mAP50  m\n",
      "                   all       1871       1878      0.991      0.992      0.995      0.814\n",
      "\n",
      "      Epoch    GPU_mem   box_loss   cls_loss   dfl_loss  Instances       Size\n",
      "      7/130      20.8G     0.9559     0.6237      1.163        141        800: 1\n",
      "                 Class     Images  Instances      Box(P          R      mAP50  m\n",
      "                   all       1871       1878      0.992      0.993      0.995       0.83\n",
      "\n",
      "      Epoch    GPU_mem   box_loss   cls_loss   dfl_loss  Instances       Size\n",
      "      8/130      23.1G     0.9229     0.5906       1.14        131        800: 1\n",
      "                 Class     Images  Instances      Box(P          R      mAP50  m\n",
      "                   all       1871       1878      0.991      0.989      0.995       0.84\n",
      "\n",
      "      Epoch    GPU_mem   box_loss   cls_loss   dfl_loss  Instances       Size\n",
      "      9/130      20.8G     0.8964     0.5757      1.128        142        800: 1\n",
      "                 Class     Images  Instances      Box(P          R      mAP50  m\n",
      "                   all       1871       1878       0.99      0.996      0.995      0.856\n",
      "\n",
      "      Epoch    GPU_mem   box_loss   cls_loss   dfl_loss  Instances       Size\n",
      "     10/130      23.1G     0.8728     0.5535      1.118        146        800: 1\n",
      "                 Class     Images  Instances      Box(P          R      mAP50  m\n",
      "                   all       1871       1878       0.99      0.992      0.995      0.862\n",
      "\n",
      "      Epoch    GPU_mem   box_loss   cls_loss   dfl_loss  Instances       Size\n",
      "     11/130      20.8G     0.8546     0.5322      1.107        137        800: 1\n",
      "                 Class     Images  Instances      Box(P          R      mAP50  m\n",
      "                   all       1871       1878      0.995      0.995      0.995      0.863\n",
      "\n",
      "      Epoch    GPU_mem   box_loss   cls_loss   dfl_loss  Instances       Size\n",
      "     12/130      23.1G     0.8412     0.5281      1.095        162        800: 1\n",
      "                 Class     Images  Instances      Box(P          R      mAP50  m\n",
      "                   all       1871       1878      0.987      0.992      0.994      0.833\n",
      "\n",
      "      Epoch    GPU_mem   box_loss   cls_loss   dfl_loss  Instances       Size\n",
      "     13/130      20.8G     0.8271      0.512      1.093        144        800: 1\n",
      "                 Class     Images  Instances      Box(P          R      mAP50  m\n",
      "                   all       1871       1878      0.991      0.989      0.995       0.87\n",
      "\n",
      "      Epoch    GPU_mem   box_loss   cls_loss   dfl_loss  Instances       Size\n",
      "     14/130      23.1G     0.8078     0.5014      1.083        148        800: 1\n",
      "                 Class     Images  Instances      Box(P          R      mAP50  m\n",
      "                   all       1871       1878      0.995      0.996      0.995      0.872\n",
      "\n",
      "      Epoch    GPU_mem   box_loss   cls_loss   dfl_loss  Instances       Size\n",
      "     15/130      20.8G     0.8059     0.4935      1.086        134        800: 1\n",
      "                 Class     Images  Instances      Box(P          R      mAP50  m\n",
      "                   all       1871       1878      0.994      0.991      0.995       0.88\n",
      "\n",
      "      Epoch    GPU_mem   box_loss   cls_loss   dfl_loss  Instances       Size\n",
      "     16/130      23.1G     0.7926     0.4854      1.079        143        800: 1\n",
      "                 Class     Images  Instances      Box(P          R      mAP50  m\n",
      "                   all       1871       1878      0.994      0.993      0.995       0.88\n",
      "\n",
      "      Epoch    GPU_mem   box_loss   cls_loss   dfl_loss  Instances       Size\n",
      "     17/130      20.8G     0.7799     0.4779      1.066        133        800: 1\n",
      "                 Class     Images  Instances      Box(P          R      mAP50  m\n",
      "                   all       1871       1878      0.992      0.994      0.995      0.886\n",
      "\n",
      "      Epoch    GPU_mem   box_loss   cls_loss   dfl_loss  Instances       Size\n",
      "     18/130      23.1G     0.7692     0.4701      1.062        132        800: 1\n",
      "                 Class     Images  Instances      Box(P          R      mAP50  m\n",
      "                   all       1871       1878      0.988      0.996      0.995      0.885\n",
      "\n",
      "      Epoch    GPU_mem   box_loss   cls_loss   dfl_loss  Instances       Size\n",
      "     19/130      20.8G     0.7657      0.467      1.063        131        800: 1\n",
      "                 Class     Images  Instances      Box(P          R      mAP50  m\n",
      "                   all       1871       1878      0.995      0.996      0.995       0.89\n",
      "\n",
      "      Epoch    GPU_mem   box_loss   cls_loss   dfl_loss  Instances       Size\n",
      "     20/130      23.1G     0.7602     0.4608      1.061        152        800: 1\n",
      "                 Class     Images  Instances      Box(P          R      mAP50  m\n",
      "                   all       1871       1878      0.994      0.993      0.995      0.892\n",
      "\n",
      "      Epoch    GPU_mem   box_loss   cls_loss   dfl_loss  Instances       Size\n",
      "     21/130      20.8G     0.7507      0.456      1.059        108        800: 1\n",
      "                 Class     Images  Instances      Box(P          R      mAP50  m\n",
      "                   all       1871       1878      0.995      0.992      0.995      0.899\n",
      "\n",
      "      Epoch    GPU_mem   box_loss   cls_loss   dfl_loss  Instances       Size\n",
      "     22/130      23.1G     0.7446     0.4505       1.05        142        800: 1\n",
      "                 Class     Images  Instances      Box(P          R      mAP50  m\n",
      "                   all       1871       1878      0.995      0.996      0.995      0.901\n",
      "\n",
      "      Epoch    GPU_mem   box_loss   cls_loss   dfl_loss  Instances       Size\n",
      "     23/130      20.8G     0.7438     0.4469       1.05        120        800: 1\n",
      "                 Class     Images  Instances      Box(P          R      mAP50  m\n",
      "                   all       1871       1878      0.993      0.996      0.995      0.898\n",
      "\n",
      "      Epoch    GPU_mem   box_loss   cls_loss   dfl_loss  Instances       Size\n",
      "     24/130      23.1G     0.7347     0.4392      1.042        165        800: 1\n",
      "                 Class     Images  Instances      Box(P          R      mAP50  m\n",
      "                   all       1871       1878      0.995      0.996      0.995      0.903\n",
      "\n",
      "      Epoch    GPU_mem   box_loss   cls_loss   dfl_loss  Instances       Size\n",
      "     25/130      20.8G     0.7316     0.4324      1.047        128        800: 1\n",
      "                 Class     Images  Instances      Box(P          R      mAP50  m\n",
      "                   all       1871       1878      0.996      0.996      0.995      0.904\n",
      "\n",
      "      Epoch    GPU_mem   box_loss   cls_loss   dfl_loss  Instances       Size\n",
      "     26/130      23.1G       0.73     0.4317      1.046        157        800: 1\n",
      "                 Class     Images  Instances      Box(P          R      mAP50  m\n",
      "                   all       1871       1878      0.996      0.995      0.995      0.906\n",
      "\n",
      "      Epoch    GPU_mem   box_loss   cls_loss   dfl_loss  Instances       Size\n",
      "     27/130      20.8G     0.7218     0.4301      1.043        143        800: 1\n",
      "                 Class     Images  Instances      Box(P          R      mAP50  m\n",
      "                   all       1871       1878      0.996      0.994      0.995      0.906\n",
      "\n",
      "      Epoch    GPU_mem   box_loss   cls_loss   dfl_loss  Instances       Size\n",
      "     28/130      23.1G      0.713     0.4252      1.035        160        800: 1\n",
      "                 Class     Images  Instances      Box(P          R      mAP50  m\n",
      "                   all       1871       1878      0.994      0.996      0.995      0.907\n",
      "\n",
      "      Epoch    GPU_mem   box_loss   cls_loss   dfl_loss  Instances       Size\n",
      "     29/130      20.8G     0.7066     0.4204      1.034        153        800: 1\n",
      "                 Class     Images  Instances      Box(P          R      mAP50  m\n",
      "                   all       1871       1878      0.996      0.996      0.995      0.908\n",
      "\n",
      "      Epoch    GPU_mem   box_loss   cls_loss   dfl_loss  Instances       Size\n",
      "     30/130      23.1G     0.7033     0.4206      1.034        141        800: 1\n",
      "                 Class     Images  Instances      Box(P          R      mAP50  m\n",
      "                   all       1871       1878      0.994      0.996      0.995       0.91\n",
      "\n",
      "      Epoch    GPU_mem   box_loss   cls_loss   dfl_loss  Instances       Size\n",
      "     31/130      20.8G     0.6974     0.4164      1.025        158        800: 1\n",
      "                 Class     Images  Instances      Box(P          R      mAP50  m\n",
      "                   all       1871       1878      0.996      0.996      0.995      0.913\n",
      "\n",
      "      Epoch    GPU_mem   box_loss   cls_loss   dfl_loss  Instances       Size\n",
      "     32/130      23.1G     0.6943     0.4097      1.026        141        800: 1\n",
      "                 Class     Images  Instances      Box(P          R      mAP50  m\n",
      "                   all       1871       1878      0.995      0.995      0.995      0.913\n",
      "\n",
      "      Epoch    GPU_mem   box_loss   cls_loss   dfl_loss  Instances       Size\n",
      "     33/130      20.8G       0.69     0.4141      1.027        152        800: 1\n",
      "                 Class     Images  Instances      Box(P          R      mAP50  m\n",
      "                   all       1871       1878      0.994      0.995      0.995      0.911\n",
      "\n",
      "      Epoch    GPU_mem   box_loss   cls_loss   dfl_loss  Instances       Size\n",
      "     34/130      23.1G     0.6875     0.4081      1.023        128        800: 1\n",
      "                 Class     Images  Instances      Box(P          R      mAP50  m\n",
      "                   all       1871       1878      0.995      0.995      0.995      0.911\n",
      "\n",
      "      Epoch    GPU_mem   box_loss   cls_loss   dfl_loss  Instances       Size\n",
      "     35/130      20.8G     0.6871     0.4085      1.022        153        800: 1\n",
      "                 Class     Images  Instances      Box(P          R      mAP50  m\n",
      "                   all       1871       1878      0.995      0.995      0.995      0.912\n",
      "\n",
      "      Epoch    GPU_mem   box_loss   cls_loss   dfl_loss  Instances       Size\n",
      "     36/130      23.1G      0.679     0.4005      1.017        133        800: 1\n",
      "                 Class     Images  Instances      Box(P          R      mAP50  m\n",
      "                   all       1871       1878      0.995      0.995      0.995      0.916\n",
      "\n",
      "      Epoch    GPU_mem   box_loss   cls_loss   dfl_loss  Instances       Size\n",
      "     37/130      20.8G      0.678     0.4009      1.017        144        800: 1\n",
      "                 Class     Images  Instances      Box(P          R      mAP50  m\n",
      "                   all       1871       1878      0.997      0.995      0.995      0.915\n",
      "\n",
      "      Epoch    GPU_mem   box_loss   cls_loss   dfl_loss  Instances       Size\n",
      "     38/130      23.1G     0.6714     0.3953       1.02        135        800: 1\n",
      "                 Class     Images  Instances      Box(P          R      mAP50  m\n",
      "                   all       1871       1878      0.997      0.995      0.995      0.918\n",
      "\n",
      "      Epoch    GPU_mem   box_loss   cls_loss   dfl_loss  Instances       Size\n",
      "     39/130      20.8G     0.6737     0.3967      1.022        140        800: 1\n",
      "                 Class     Images  Instances      Box(P          R      mAP50  m\n",
      "                   all       1871       1878      0.995      0.995      0.995      0.917\n",
      "\n",
      "      Epoch    GPU_mem   box_loss   cls_loss   dfl_loss  Instances       Size\n",
      "     40/130      23.1G     0.6695     0.3919      1.013        133        800: 1\n",
      "                 Class     Images  Instances      Box(P          R      mAP50  m\n",
      "                   all       1871       1878      0.996      0.994      0.995      0.916\n",
      "\n",
      "      Epoch    GPU_mem   box_loss   cls_loss   dfl_loss  Instances       Size\n",
      "     41/130      20.8G     0.6693     0.3953      1.014        120        800: 1\n",
      "                 Class     Images  Instances      Box(P          R      mAP50  m\n",
      "                   all       1871       1878      0.996      0.996      0.995      0.917\n",
      "\n",
      "      Epoch    GPU_mem   box_loss   cls_loss   dfl_loss  Instances       Size\n",
      "     42/130      23.1G     0.6585     0.3922       1.01        140        800: 1\n",
      "                 Class     Images  Instances      Box(P          R      mAP50  m\n",
      "                   all       1871       1878      0.996      0.995      0.995      0.916\n",
      "\n",
      "      Epoch    GPU_mem   box_loss   cls_loss   dfl_loss  Instances       Size\n",
      "     43/130      20.8G     0.6564      0.388      1.008        138        800: 1\n",
      "                 Class     Images  Instances      Box(P          R      mAP50  m\n",
      "                   all       1871       1878      0.996      0.996      0.995      0.917\n",
      "\n",
      "      Epoch    GPU_mem   box_loss   cls_loss   dfl_loss  Instances       Size\n",
      "     44/130      23.1G     0.6566     0.3858      1.008        132        800: 1\n",
      "                 Class     Images  Instances      Box(P          R      mAP50  m\n",
      "                   all       1871       1878      0.995      0.995      0.995      0.917\n",
      "\n",
      "      Epoch    GPU_mem   box_loss   cls_loss   dfl_loss  Instances       Size\n",
      "     45/130      20.8G     0.6521     0.3845      1.009        133        800: 1\n",
      "                 Class     Images  Instances      Box(P          R      mAP50  m\n",
      "                   all       1871       1878      0.996      0.994      0.995      0.918\n",
      "\n",
      "      Epoch    GPU_mem   box_loss   cls_loss   dfl_loss  Instances       Size\n",
      "     46/130      23.1G     0.6468     0.3809      1.001        158        800: 1\n",
      "                 Class     Images  Instances      Box(P          R      mAP50  m\n",
      "                   all       1871       1878      0.995      0.994      0.995      0.919\n",
      "\n",
      "      Epoch    GPU_mem   box_loss   cls_loss   dfl_loss  Instances       Size\n",
      "     47/130      20.8G     0.6486     0.3818      1.008        134        800: 1\n",
      "                 Class     Images  Instances      Box(P          R      mAP50  m\n",
      "                   all       1871       1878      0.995      0.994      0.995      0.919\n",
      "\n",
      "      Epoch    GPU_mem   box_loss   cls_loss   dfl_loss  Instances       Size\n",
      "     48/130      23.1G     0.6429     0.3769      1.002        133        800: 1\n",
      "                 Class     Images  Instances      Box(P          R      mAP50  m\n",
      "                   all       1871       1878      0.995      0.995      0.995      0.919\n",
      "\n",
      "      Epoch    GPU_mem   box_loss   cls_loss   dfl_loss  Instances       Size\n",
      "     49/130      20.8G     0.6402     0.3725     0.9999        142        800: 1\n",
      "                 Class     Images  Instances      Box(P          R      mAP50  m\n",
      "                   all       1871       1878      0.995      0.994      0.995      0.919\n",
      "\n",
      "      Epoch    GPU_mem   box_loss   cls_loss   dfl_loss  Instances       Size\n",
      "     50/130      23.1G     0.6365     0.3723      1.001        133        800: 1\n",
      "                 Class     Images  Instances      Box(P          R      mAP50  m\n",
      "                   all       1871       1878      0.995      0.994      0.995       0.92\n",
      "\n",
      "      Epoch    GPU_mem   box_loss   cls_loss   dfl_loss  Instances       Size\n",
      "     51/130      20.8G     0.6375     0.3719     0.9987        140        800: 1\n",
      "                 Class     Images  Instances      Box(P          R      mAP50  m\n",
      "                   all       1871       1878      0.995      0.994      0.995      0.919\n",
      "\n",
      "      Epoch    GPU_mem   box_loss   cls_loss   dfl_loss  Instances       Size\n",
      "     52/130      23.1G     0.6356     0.3738     0.9938        156        800: 1\n",
      "                 Class     Images  Instances      Box(P          R      mAP50  m\n",
      "                   all       1871       1878      0.995      0.996      0.995      0.919\n",
      "\n",
      "      Epoch    GPU_mem   box_loss   cls_loss   dfl_loss  Instances       Size\n",
      "     53/130      20.8G     0.6308     0.3677     0.9939        150        800: 1\n",
      "                 Class     Images  Instances      Box(P          R      mAP50  m\n",
      "                   all       1871       1878      0.995      0.995      0.995       0.92\n",
      "\n",
      "      Epoch    GPU_mem   box_loss   cls_loss   dfl_loss  Instances       Size\n",
      "     54/130      23.1G     0.6257     0.3644     0.9912        140        800: 1\n",
      "                 Class     Images  Instances      Box(P          R      mAP50  m\n",
      "                   all       1871       1878      0.995      0.995      0.995      0.919\n",
      "\n",
      "      Epoch    GPU_mem   box_loss   cls_loss   dfl_loss  Instances       Size\n",
      "     55/130      20.8G     0.6254     0.3648     0.9916        137        800: 1\n",
      "                 Class     Images  Instances      Box(P          R      mAP50  m\n",
      "                   all       1871       1878      0.995      0.996      0.995       0.92\n",
      "\n",
      "      Epoch    GPU_mem   box_loss   cls_loss   dfl_loss  Instances       Size\n",
      "     56/130      23.1G     0.6223     0.3633     0.9949        135        800: 1\n",
      "                 Class     Images  Instances      Box(P          R      mAP50  m\n",
      "                   all       1871       1878      0.994      0.996      0.995       0.92\n",
      "\n",
      "      Epoch    GPU_mem   box_loss   cls_loss   dfl_loss  Instances       Size\n",
      "     57/130      20.8G      0.618     0.3608     0.9896        130        800: 1\n",
      "                 Class     Images  Instances      Box(P          R      mAP50  m\n",
      "                   all       1871       1878      0.994      0.996      0.995       0.92\n",
      "\n",
      "      Epoch    GPU_mem   box_loss   cls_loss   dfl_loss  Instances       Size\n",
      "     58/130      23.1G     0.6171     0.3605     0.9925        158        800: 1\n",
      "                 Class     Images  Instances      Box(P          R      mAP50  m\n",
      "                   all       1871       1878      0.995      0.996      0.995       0.92\n",
      "\n",
      "      Epoch    GPU_mem   box_loss   cls_loss   dfl_loss  Instances       Size\n",
      "     59/130      20.8G     0.6152      0.359     0.9902        137        800: 1\n",
      "                 Class     Images  Instances      Box(P          R      mAP50  m\n",
      "                   all       1871       1878      0.995      0.995      0.995       0.92\n",
      "\n",
      "      Epoch    GPU_mem   box_loss   cls_loss   dfl_loss  Instances       Size\n",
      "     60/130      23.1G     0.6122     0.3587     0.9839        132        800: 1\n",
      "                 Class     Images  Instances      Box(P          R      mAP50  m\n",
      "                   all       1871       1878      0.995      0.995      0.995       0.92\n",
      "\n",
      "      Epoch    GPU_mem   box_loss   cls_loss   dfl_loss  Instances       Size\n",
      "     61/130      20.8G     0.6089     0.3545     0.9827        137        800: 1\n",
      "                 Class     Images  Instances      Box(P          R      mAP50  m\n",
      "                   all       1871       1878      0.995      0.995      0.995       0.92\n",
      "\n",
      "      Epoch    GPU_mem   box_loss   cls_loss   dfl_loss  Instances       Size\n",
      "     62/130      23.1G      0.608     0.3534     0.9835        145        800: 1\n",
      "                 Class     Images  Instances      Box(P          R      mAP50  m\n",
      "                   all       1871       1878      0.995      0.995      0.995       0.92\n",
      "\n",
      "      Epoch    GPU_mem   box_loss   cls_loss   dfl_loss  Instances       Size\n",
      "     63/130      20.8G      0.605     0.3564     0.9831        139        800: 1\n",
      "                 Class     Images  Instances      Box(P          R      mAP50  m\n",
      "                   all       1871       1878      0.995      0.995      0.995       0.92\n",
      "\n",
      "      Epoch    GPU_mem   box_loss   cls_loss   dfl_loss  Instances       Size\n",
      "     64/130      23.1G     0.6032     0.3512     0.9828        144        800: 1\n",
      "                 Class     Images  Instances      Box(P          R      mAP50  m\n",
      "                   all       1871       1878      0.995      0.995      0.995      0.922\n",
      "\n",
      "      Epoch    GPU_mem   box_loss   cls_loss   dfl_loss  Instances       Size\n",
      "     65/130      20.8G     0.6006     0.3482     0.9807        124        800: 1\n",
      "                 Class     Images  Instances      Box(P          R      mAP50  m\n",
      "                   all       1871       1878      0.994      0.995      0.995      0.921\n",
      "\n",
      "      Epoch    GPU_mem   box_loss   cls_loss   dfl_loss  Instances       Size\n",
      "     66/130      23.1G      0.596     0.3472     0.9818        137        800: 1\n",
      "                 Class     Images  Instances      Box(P          R      mAP50  m\n",
      "                   all       1871       1878      0.995      0.995      0.995      0.921\n",
      "\n",
      "      Epoch    GPU_mem   box_loss   cls_loss   dfl_loss  Instances       Size\n",
      "     67/130      20.8G     0.5936     0.3437     0.9775        134        800: 1\n",
      "                 Class     Images  Instances      Box(P          R      mAP50  m\n",
      "                   all       1871       1878      0.995      0.995      0.995      0.921\n",
      "\n",
      "      Epoch    GPU_mem   box_loss   cls_loss   dfl_loss  Instances       Size\n",
      "     68/130      23.1G     0.5899     0.3416     0.9745        144        800: 1\n",
      "                 Class     Images  Instances      Box(P          R      mAP50  m\n",
      "                   all       1871       1878      0.995      0.995      0.995      0.921\n",
      "\n",
      "      Epoch    GPU_mem   box_loss   cls_loss   dfl_loss  Instances       Size\n",
      "     69/130      20.8G     0.5891     0.3455     0.9787        144        800: 1\n",
      "                 Class     Images  Instances      Box(P          R      mAP50  m\n",
      "                   all       1871       1878      0.995      0.995      0.995      0.921\n",
      "\n",
      "      Epoch    GPU_mem   box_loss   cls_loss   dfl_loss  Instances       Size\n",
      "     70/130      23.1G     0.5876     0.3407     0.9785        131        800: 1\n",
      "                 Class     Images  Instances      Box(P          R      mAP50  m\n",
      "                   all       1871       1878      0.995      0.995      0.995      0.921\n",
      "\n",
      "      Epoch    GPU_mem   box_loss   cls_loss   dfl_loss  Instances       Size\n",
      "     71/130      20.8G     0.5814     0.3379     0.9758        146        800: 1\n",
      "                 Class     Images  Instances      Box(P          R      mAP50  m\n",
      "                   all       1871       1878      0.995      0.995      0.995      0.921\n",
      "\n",
      "      Epoch    GPU_mem   box_loss   cls_loss   dfl_loss  Instances       Size\n",
      "     72/130      23.1G     0.5807     0.3378     0.9755        151        800: 1\n",
      "                 Class     Images  Instances      Box(P          R      mAP50  m\n",
      "                   all       1871       1878      0.996      0.995      0.995      0.921\n",
      "\n",
      "      Epoch    GPU_mem   box_loss   cls_loss   dfl_loss  Instances       Size\n",
      "     73/130      20.8G     0.5839     0.3387     0.9756        136        800: 1\n",
      "                 Class     Images  Instances      Box(P          R      mAP50  m\n",
      "                   all       1871       1878      0.995      0.995      0.995      0.922\n",
      "\n",
      "      Epoch    GPU_mem   box_loss   cls_loss   dfl_loss  Instances       Size\n",
      "     74/130      23.1G      0.575     0.3331     0.9707        141        800: 1\n",
      "                 Class     Images  Instances      Box(P          R      mAP50  m\n",
      "                   all       1871       1878      0.995      0.995      0.995      0.923\n",
      "\n",
      "      Epoch    GPU_mem   box_loss   cls_loss   dfl_loss  Instances       Size\n",
      "     75/130      20.8G      0.576     0.3341     0.9723        147        800: 1\n",
      "                 Class     Images  Instances      Box(P          R      mAP50  m\n",
      "                   all       1871       1878      0.995      0.995      0.995      0.923\n",
      "\n",
      "      Epoch    GPU_mem   box_loss   cls_loss   dfl_loss  Instances       Size\n",
      "     76/130      23.1G     0.5757     0.3345     0.9691        148        800: 1\n",
      "                 Class     Images  Instances      Box(P          R      mAP50  m\n",
      "                   all       1871       1878      0.995      0.995      0.995      0.923\n",
      "\n",
      "      Epoch    GPU_mem   box_loss   cls_loss   dfl_loss  Instances       Size\n",
      "     77/130      20.8G     0.5691     0.3296      0.966        142        800: 1\n",
      "                 Class     Images  Instances      Box(P          R      mAP50  m\n",
      "                   all       1871       1878      0.995      0.995      0.995      0.923\n",
      "\n",
      "      Epoch    GPU_mem   box_loss   cls_loss   dfl_loss  Instances       Size\n",
      "     78/130      20.8G      0.565     0.3272      0.962        138        800: 1\n",
      "                 Class     Images  Instances      Box(P          R      mAP50  m\n",
      "                   all       1871       1878      0.995      0.995      0.995      0.923\n",
      "\n",
      "      Epoch    GPU_mem   box_loss   cls_loss   dfl_loss  Instances       Size\n",
      "     79/130      20.8G     0.5654      0.326     0.9648        120        800: 1\n",
      "                 Class     Images  Instances      Box(P          R      mAP50  m\n",
      "                   all       1871       1878      0.995      0.995      0.995      0.923\n",
      "\n",
      "      Epoch    GPU_mem   box_loss   cls_loss   dfl_loss  Instances       Size\n",
      "     80/130      20.9G     0.5592     0.3213     0.9616        131        800: 1\n",
      "                 Class     Images  Instances      Box(P          R      mAP50  m\n",
      "                   all       1871       1878      0.995      0.996      0.995      0.923\n",
      "\n",
      "      Epoch    GPU_mem   box_loss   cls_loss   dfl_loss  Instances       Size\n",
      "     81/130      20.8G     0.5582     0.3256     0.9659        141        800: 1\n",
      "                 Class     Images  Instances      Box(P          R      mAP50  m\n",
      "                   all       1871       1878      0.995      0.996      0.995      0.924\n",
      "\n",
      "      Epoch    GPU_mem   box_loss   cls_loss   dfl_loss  Instances       Size\n",
      "     82/130      23.1G     0.5554     0.3209     0.9587        144        800: 1\n",
      "                 Class     Images  Instances      Box(P          R      mAP50  m\n",
      "                   all       1871       1878      0.995      0.996      0.995      0.924\n",
      "\n",
      "      Epoch    GPU_mem   box_loss   cls_loss   dfl_loss  Instances       Size\n",
      "     83/130      20.8G     0.5526     0.3188     0.9537        147        800: 1\n",
      "                 Class     Images  Instances      Box(P          R      mAP50  m\n",
      "                   all       1871       1878      0.996      0.996      0.995      0.924\n",
      "\n",
      "      Epoch    GPU_mem   box_loss   cls_loss   dfl_loss  Instances       Size\n",
      "     84/130      23.1G     0.5516     0.3196     0.9552        136        800: 1\n",
      "                 Class     Images  Instances      Box(P          R      mAP50  m\n",
      "                   all       1871       1878      0.995      0.995      0.995      0.924\n",
      "\n",
      "      Epoch    GPU_mem   box_loss   cls_loss   dfl_loss  Instances       Size\n",
      "     85/130      20.8G     0.5483      0.318     0.9527        143        800: 1\n",
      "                 Class     Images  Instances      Box(P          R      mAP50  m\n",
      "                   all       1871       1878      0.995      0.995      0.995      0.924\n",
      "\n",
      "      Epoch    GPU_mem   box_loss   cls_loss   dfl_loss  Instances       Size\n",
      "     86/130      23.1G      0.549     0.3155     0.9542        122        800: 1\n",
      "                 Class     Images  Instances      Box(P          R      mAP50  m\n",
      "                   all       1871       1878      0.995      0.995      0.995      0.924\n",
      "\n",
      "      Epoch    GPU_mem   box_loss   cls_loss   dfl_loss  Instances       Size\n",
      "     87/130      20.8G     0.5409     0.3145     0.9548        135        800: 1\n",
      "                 Class     Images  Instances      Box(P          R      mAP50  m\n",
      "                   all       1871       1878      0.995      0.995      0.995      0.924\n",
      "\n",
      "      Epoch    GPU_mem   box_loss   cls_loss   dfl_loss  Instances       Size\n",
      "     88/130      23.1G     0.5428     0.3133     0.9578        163        800: 1\n",
      "                 Class     Images  Instances      Box(P          R      mAP50  m\n",
      "                   all       1871       1878      0.996      0.996      0.995      0.925\n",
      "\n",
      "      Epoch    GPU_mem   box_loss   cls_loss   dfl_loss  Instances       Size\n",
      "     89/130      20.8G     0.5372     0.3108     0.9532        141        800: 1\n",
      "                 Class     Images  Instances      Box(P          R      mAP50  m\n",
      "                   all       1871       1878      0.997      0.995      0.995      0.925\n",
      "\n",
      "      Epoch    GPU_mem   box_loss   cls_loss   dfl_loss  Instances       Size\n",
      "     90/130      23.1G     0.5362     0.3083     0.9515        140        800: 1\n",
      "                 Class     Images  Instances      Box(P          R      mAP50  m\n",
      "                   all       1871       1878      0.996      0.995      0.995      0.925\n",
      "\n",
      "      Epoch    GPU_mem   box_loss   cls_loss   dfl_loss  Instances       Size\n",
      "     91/130      20.8G     0.5343     0.3094     0.9516        127        800: 1\n",
      "                 Class     Images  Instances      Box(P          R      mAP50  m\n",
      "                   all       1871       1878      0.996      0.995      0.995      0.925\n",
      "\n",
      "      Epoch    GPU_mem   box_loss   cls_loss   dfl_loss  Instances       Size\n",
      "     92/130      20.9G     0.5262     0.3015     0.9487        129        800: 1\n",
      "                 Class     Images  Instances      Box(P          R      mAP50  m\n",
      "                   all       1871       1878      0.996      0.995      0.995      0.926\n",
      "\n",
      "      Epoch    GPU_mem   box_loss   cls_loss   dfl_loss  Instances       Size\n",
      "     93/130      20.8G     0.5263     0.3019     0.9465        130        800: 1\n",
      "                 Class     Images  Instances      Box(P          R      mAP50  m\n",
      "                   all       1871       1878      0.996      0.996      0.995      0.926\n",
      "\n",
      "      Epoch    GPU_mem   box_loss   cls_loss   dfl_loss  Instances       Size\n",
      "     94/130      23.1G     0.5265     0.3016     0.9483        141        800: 1\n",
      "                 Class     Images  Instances      Box(P          R      mAP50  m\n",
      "                   all       1871       1878      0.996      0.996      0.995      0.926\n",
      "\n",
      "      Epoch    GPU_mem   box_loss   cls_loss   dfl_loss  Instances       Size\n",
      "     95/130      20.8G     0.5207     0.2991     0.9415        139        800: 1\n",
      "                 Class     Images  Instances      Box(P          R      mAP50  m\n",
      "                   all       1871       1878      0.996      0.995      0.995      0.927\n",
      "\n",
      "      Epoch    GPU_mem   box_loss   cls_loss   dfl_loss  Instances       Size\n",
      "     96/130      23.1G     0.5194     0.2975     0.9417        133        800: 1\n",
      "                 Class     Images  Instances      Box(P          R      mAP50  m\n",
      "                   all       1871       1878      0.996      0.995      0.995      0.927\n",
      "\n",
      "      Epoch    GPU_mem   box_loss   cls_loss   dfl_loss  Instances       Size\n",
      "     97/130      20.8G     0.5188     0.2991     0.9424        133        800: 1\n",
      "                 Class     Images  Instances      Box(P          R      mAP50  m\n",
      "                   all       1871       1878      0.997      0.994      0.995      0.926\n",
      "\n",
      "      Epoch    GPU_mem   box_loss   cls_loss   dfl_loss  Instances       Size\n",
      "     98/130      23.1G     0.5159     0.2961     0.9364        139        800: 1\n",
      "                 Class     Images  Instances      Box(P          R      mAP50  m\n",
      "                   all       1871       1878      0.997      0.994      0.995      0.927\n",
      "\n",
      "      Epoch    GPU_mem   box_loss   cls_loss   dfl_loss  Instances       Size\n",
      "     99/130      20.8G     0.5062     0.2891     0.9357        140        800: 1\n",
      "                 Class     Images  Instances      Box(P          R      mAP50  m\n",
      "                   all       1871       1878      0.997      0.994      0.995      0.927\n",
      "\n",
      "      Epoch    GPU_mem   box_loss   cls_loss   dfl_loss  Instances       Size\n",
      "    100/130      23.1G      0.507     0.2905     0.9395        135        800: 1\n",
      "                 Class     Images  Instances      Box(P          R      mAP50  m\n",
      "                   all       1871       1878      0.996      0.994      0.995      0.927\n",
      "\n",
      "      Epoch    GPU_mem   box_loss   cls_loss   dfl_loss  Instances       Size\n",
      "    101/130      20.8G     0.5067     0.2871     0.9397        139        800: 1\n",
      "                 Class     Images  Instances      Box(P          R      mAP50  m\n",
      "                   all       1871       1878      0.997      0.994      0.995      0.927\n",
      "\n",
      "      Epoch    GPU_mem   box_loss   cls_loss   dfl_loss  Instances       Size\n",
      "    102/130      23.1G     0.5024     0.2854     0.9378        133        800: 1\n",
      "                 Class     Images  Instances      Box(P          R      mAP50  m\n",
      "                   all       1871       1878      0.997      0.993      0.995      0.927\n",
      "\n",
      "      Epoch    GPU_mem   box_loss   cls_loss   dfl_loss  Instances       Size\n",
      "    103/130      20.8G     0.5007     0.2854     0.9353        151        800: 1\n",
      "                 Class     Images  Instances      Box(P          R      mAP50  m\n",
      "                   all       1871       1878      0.996      0.994      0.995      0.927\n",
      "\n",
      "      Epoch    GPU_mem   box_loss   cls_loss   dfl_loss  Instances       Size\n",
      "    104/130      23.1G     0.4955     0.2832     0.9333        139        800: 1\n",
      "                 Class     Images  Instances      Box(P          R      mAP50  m\n",
      "                   all       1871       1878      0.996      0.994      0.995      0.928\n",
      "\n",
      "      Epoch    GPU_mem   box_loss   cls_loss   dfl_loss  Instances       Size\n",
      "    105/130      20.8G     0.4922     0.2842     0.9325        139        800: 1\n",
      "                 Class     Images  Instances      Box(P          R      mAP50  m\n",
      "                   all       1871       1878      0.996      0.994      0.995      0.928\n",
      "\n",
      "      Epoch    GPU_mem   box_loss   cls_loss   dfl_loss  Instances       Size\n",
      "    106/130      23.1G     0.4897     0.2776     0.9303        141        800: 1\n",
      "                 Class     Images  Instances      Box(P          R      mAP50  m\n",
      "                   all       1871       1878      0.996      0.993      0.995      0.928\n",
      "\n",
      "      Epoch    GPU_mem   box_loss   cls_loss   dfl_loss  Instances       Size\n",
      "    107/130      20.8G     0.4863     0.2779     0.9317        151        800: 1\n",
      "                 Class     Images  Instances      Box(P          R      mAP50  m\n",
      "                   all       1871       1878      0.997      0.993      0.995      0.928\n",
      "\n",
      "      Epoch    GPU_mem   box_loss   cls_loss   dfl_loss  Instances       Size\n",
      "    108/130      23.1G      0.487     0.2755     0.9301        160        800: 1\n",
      "                 Class     Images  Instances      Box(P          R      mAP50  m\n",
      "                   all       1871       1878      0.998      0.992      0.995      0.928\n",
      "\n",
      "      Epoch    GPU_mem   box_loss   cls_loss   dfl_loss  Instances       Size\n",
      "    109/130      20.8G     0.4831     0.2737     0.9277        148        800: 1\n",
      "                 Class     Images  Instances      Box(P          R      mAP50  m\n",
      "                   all       1871       1878      0.998      0.992      0.995      0.928\n",
      "\n",
      "      Epoch    GPU_mem   box_loss   cls_loss   dfl_loss  Instances       Size\n",
      "    110/130      23.1G      0.482     0.2748     0.9257        140        800: 1\n",
      "                 Class     Images  Instances      Box(P          R      mAP50  m\n",
      "                   all       1871       1878      0.998      0.992      0.995      0.928\n",
      "\n",
      "      Epoch    GPU_mem   box_loss   cls_loss   dfl_loss  Instances       Size\n",
      "    111/130      20.8G     0.4743     0.2692     0.9227        145        800: 1\n",
      "                 Class     Images  Instances      Box(P          R      mAP50  m\n",
      "                   all       1871       1878      0.997      0.992      0.995      0.928\n",
      "\n",
      "      Epoch    GPU_mem   box_loss   cls_loss   dfl_loss  Instances       Size\n",
      "    112/130      23.1G     0.4737     0.2706     0.9232        141        800: 1\n",
      "                 Class     Images  Instances      Box(P          R      mAP50  m\n",
      "                   all       1871       1878      0.998      0.992      0.995      0.928\n",
      "\n",
      "      Epoch    GPU_mem   box_loss   cls_loss   dfl_loss  Instances       Size\n",
      "    113/130      20.8G     0.4693     0.2666     0.9214        141        800: 1\n",
      "                 Class     Images  Instances      Box(P          R      mAP50  m\n",
      "                   all       1871       1878      0.998      0.992      0.995      0.929\n",
      "\n",
      "      Epoch    GPU_mem   box_loss   cls_loss   dfl_loss  Instances       Size\n",
      "    114/130      20.9G     0.4681     0.2658     0.9234        126        800: 1\n",
      "                 Class     Images  Instances      Box(P          R      mAP50  m\n",
      "                   all       1871       1878      0.997      0.992      0.995      0.928\n",
      "\n",
      "      Epoch    GPU_mem   box_loss   cls_loss   dfl_loss  Instances       Size\n",
      "    115/130      20.8G     0.4609     0.2604     0.9186        139        800: 1\n",
      "                 Class     Images  Instances      Box(P          R      mAP50  m\n",
      "                   all       1871       1878      0.997      0.992      0.995      0.928\n",
      "\n",
      "      Epoch    GPU_mem   box_loss   cls_loss   dfl_loss  Instances       Size\n",
      "    116/130      20.9G     0.4596     0.2622     0.9154        146        800: 1\n",
      "                 Class     Images  Instances      Box(P          R      mAP50  m\n",
      "                   all       1871       1878      0.997      0.992      0.995      0.929\n",
      "\n",
      "      Epoch    GPU_mem   box_loss   cls_loss   dfl_loss  Instances       Size\n",
      "    117/130      20.8G     0.4591     0.2616     0.9167        129        800: 1\n",
      "                 Class     Images  Instances      Box(P          R      mAP50  m\n",
      "                   all       1871       1878      0.997      0.992      0.995       0.93\n",
      "\n",
      "      Epoch    GPU_mem   box_loss   cls_loss   dfl_loss  Instances       Size\n",
      "    118/130      23.1G     0.4562     0.2573     0.9165        133        800: 1\n",
      "                 Class     Images  Instances      Box(P          R      mAP50  m\n",
      "                   all       1871       1878      0.997      0.991      0.995      0.929\n",
      "\n",
      "      Epoch    GPU_mem   box_loss   cls_loss   dfl_loss  Instances       Size\n",
      "    119/130      20.8G     0.4532     0.2562     0.9171        134        800: 1\n",
      "                 Class     Images  Instances      Box(P          R      mAP50  m\n",
      "                   all       1871       1878      0.997      0.991      0.995      0.929\n",
      "\n",
      "      Epoch    GPU_mem   box_loss   cls_loss   dfl_loss  Instances       Size\n",
      "    120/130      23.1G     0.4456     0.2517     0.9129        138        800: 1\n",
      "                 Class     Images  Instances      Box(P          R      mAP50  m\n",
      "                   all       1871       1878      0.997      0.992      0.995       0.93\n",
      "\n",
      "      Epoch    GPU_mem   box_loss   cls_loss   dfl_loss  Instances       Size\n",
      "    121/130      20.8G     0.4462     0.2529      0.914        129        800: 1\n",
      "                 Class     Images  Instances      Box(P          R      mAP50  m\n",
      "                   all       1871       1878      0.995      0.993      0.995       0.93\n",
      "\n",
      "      Epoch    GPU_mem   box_loss   cls_loss   dfl_loss  Instances       Size\n",
      "    122/130      23.1G     0.4469     0.2513     0.9143        137        800: 1\n",
      "                 Class     Images  Instances      Box(P          R      mAP50  m\n",
      "                   all       1871       1878      0.995      0.994      0.995      0.931\n",
      "\n",
      "      Epoch    GPU_mem   box_loss   cls_loss   dfl_loss  Instances       Size\n",
      "    123/130      20.8G     0.4378     0.2474     0.9103        121        800: 1\n",
      "                 Class     Images  Instances      Box(P          R      mAP50  m\n",
      "                   all       1871       1878      0.994      0.994      0.995      0.931\n",
      "\n",
      "      Epoch    GPU_mem   box_loss   cls_loss   dfl_loss  Instances       Size\n",
      "    124/130      23.1G     0.4365     0.2467     0.9101        153        800: 1\n",
      "                 Class     Images  Instances      Box(P          R      mAP50  m\n",
      "                   all       1871       1878      0.995      0.994      0.995      0.931\n",
      "\n",
      "      Epoch    GPU_mem   box_loss   cls_loss   dfl_loss  Instances       Size\n",
      "    125/130      20.8G     0.4305     0.2429     0.9068        150        800: 1\n",
      "                 Class     Images  Instances      Box(P          R      mAP50  m\n",
      "                   all       1871       1878      0.994      0.994      0.995       0.93\n",
      "\n",
      "      Epoch    GPU_mem   box_loss   cls_loss   dfl_loss  Instances       Size\n",
      "    126/130      23.1G     0.4299      0.242     0.9069        139        800: 1\n",
      "                 Class     Images  Instances      Box(P          R      mAP50  m\n",
      "                   all       1871       1878      0.994      0.994      0.995      0.931\n",
      "\n",
      "      Epoch    GPU_mem   box_loss   cls_loss   dfl_loss  Instances       Size\n",
      "    127/130      20.8G     0.4286     0.2405     0.9076        140        800: 1\n",
      "                 Class     Images  Instances      Box(P          R      mAP50  m\n",
      "                   all       1871       1878      0.994      0.994      0.995       0.93\n",
      "\n",
      "      Epoch    GPU_mem   box_loss   cls_loss   dfl_loss  Instances       Size\n",
      "    128/130      20.9G     0.4223     0.2378     0.9054        144        800: 1\n",
      "                 Class     Images  Instances      Box(P          R      mAP50  m\n",
      "                   all       1871       1878      0.994      0.994      0.995       0.93\n",
      "\n",
      "      Epoch    GPU_mem   box_loss   cls_loss   dfl_loss  Instances       Size\n",
      "    129/130      20.8G      0.419     0.2356     0.9028        149        800: 1\n",
      "                 Class     Images  Instances      Box(P          R      mAP50  m\n",
      "                   all       1871       1878      0.994      0.994      0.995       0.93\n",
      "\n",
      "      Epoch    GPU_mem   box_loss   cls_loss   dfl_loss  Instances       Size\n",
      "    130/130      23.1G     0.4206     0.2375     0.9041        140        800: 1\n",
      "                 Class     Images  Instances      Box(P          R      mAP50  m\n",
      "                   all       1871       1878      0.994      0.994      0.995      0.931\n",
      "\n",
      "130 epochs completed in 5.580 hours.\n",
      "Optimizer stripped from runs/detect/train15/weights/last.pt, 22.5MB\n",
      "Optimizer stripped from runs/detect/train15/weights/best.pt, 22.5MB\n",
      "\n",
      "Validating runs/detect/train15/weights/best.pt...\n",
      "Ultralytics YOLOv8.0.117 🚀 Python-3.9.7 torch-2.0.1+cu117 CUDA:0 (NVIDIA GeForce RTX 3090, 24265MiB)\n",
      "Model summary (fused): 168 layers, 11127519 parameters, 0 gradients\n",
      "                 Class     Images  Instances      Box(P          R      mAP50  m\n",
      "                   all       1871       1878      0.994      0.994      0.995      0.931\n",
      "        container ship       1871        814      0.988      0.989      0.995       0.96\n",
      "         military ship       1871        252      0.995          1      0.995      0.893\n",
      "        passenger ship       1871        578      0.995      0.997      0.995      0.937\n",
      "           tanker ship       1871        234          1      0.989      0.995      0.934\n",
      "Speed: 0.2ms preprocess, 1.1ms inference, 0.0ms loss, 0.5ms postprocess per image\n",
      "Results saved to \u001b[1mruns/detect/train15\u001b[0m\n"
     ]
    }
   ],
   "source": [
    "\n",
    "import torch\n",
    "!yolo task=detect mode=train  model=yolov8s.pt  data={dataset.location}/data.yaml epochs=130 imgsz=800 plots=True batch=64 workers=128 device=0 cache=True"
   ]
  },
  {
   "cell_type": "code",
   "execution_count": 2,
   "metadata": {
    "id": "CR-jAxnpa9WR",
    "tags": []
   },
   "outputs": [
    {
     "name": "stderr",
     "output_type": "stream",
     "text": [
      "WARNING  Ultralytics settings reset to defaults. This is normal and may be due to a recent ultralytics package update, but may have overwritten previous settings. \n",
      "View and update settings with 'yolo settings' or at 'C:\\Users\\mateu\\AppData\\Roaming\\Ultralytics\\settings.yaml'\n"
     ]
    },
    {
     "name": "stdout",
     "output_type": "stream",
     "text": [
      "loading Roboflow workspace...\n",
      "loading Roboflow project...\n",
      "Dependency ultralytics<=8.0.20 is required but found version=8.0.117, to fix: `pip install ultralytics<=8.0.20`\n",
      "View the status of your deployment at: https://app.roboflow.com/inatel-qxvuj/unreal_ships_detection/deploy/3\n",
      "Share your model with the world at: https://universe.roboflow.com/inatel-qxvuj/unreal_ships_detection/model/3\n"
     ]
    }
   ],
   "source": [
    "\n",
    "from roboflow import Roboflow\n",
    "import ultralytics\n",
    "rf = Roboflow(api_key=\"NNsjGsIb23GWj3zGDggC\")\n",
    "project = rf.workspace(\"inatel-qxvuj\").project(\"unreal_ships_detection\")\n",
    "dataset = project.version(3)\n",
    "dataset.deploy('yolov8',\"runs/detect/train15\")"
   ]
  },
  {
   "cell_type": "code",
   "execution_count": 1,
   "metadata": {
    "tags": []
   },
   "outputs": [
    {
     "name": "stdout",
     "output_type": "stream",
     "text": [
      "Collecting ultralytics\n",
      "  Downloading ultralytics-8.0.117-py3-none-any.whl (599 kB)\n",
      "     -------------------------------------- 599.6/599.6 kB 2.4 MB/s eta 0:00:00\n",
      "Requirement already satisfied: matplotlib>=3.2.2 in c:\\python311\\lib\\site-packages (from ultralytics) (3.7.1)\n",
      "Requirement already satisfied: opencv-python>=4.6.0 in c:\\python311\\lib\\site-packages (from ultralytics) (4.7.0.72)\n",
      "Requirement already satisfied: Pillow>=7.1.2 in c:\\python311\\lib\\site-packages (from ultralytics) (9.5.0)\n",
      "Requirement already satisfied: PyYAML>=5.3.1 in c:\\python311\\lib\\site-packages (from ultralytics) (6.0)\n",
      "Requirement already satisfied: requests>=2.23.0 in c:\\python311\\lib\\site-packages (from ultralytics) (2.28.2)\n",
      "Requirement already satisfied: scipy>=1.4.1 in c:\\python311\\lib\\site-packages (from ultralytics) (1.10.1)\n",
      "Requirement already satisfied: torch>=1.7.0 in c:\\python311\\lib\\site-packages (from ultralytics) (2.0.0+cu117)\n",
      "Requirement already satisfied: torchvision>=0.8.1 in c:\\python311\\lib\\site-packages (from ultralytics) (0.15.1+cu117)\n",
      "Requirement already satisfied: tqdm>=4.64.0 in c:\\python311\\lib\\site-packages (from ultralytics) (4.65.0)\n",
      "Requirement already satisfied: pandas>=1.1.4 in c:\\python311\\lib\\site-packages (from ultralytics) (2.0.1)\n",
      "Requirement already satisfied: seaborn>=0.11.0 in c:\\python311\\lib\\site-packages (from ultralytics) (0.12.2)\n",
      "Requirement already satisfied: psutil in c:\\python311\\lib\\site-packages (from ultralytics) (5.9.5)\n",
      "Requirement already satisfied: contourpy>=1.0.1 in c:\\python311\\lib\\site-packages (from matplotlib>=3.2.2->ultralytics) (1.0.7)\n",
      "Requirement already satisfied: cycler>=0.10 in c:\\python311\\lib\\site-packages (from matplotlib>=3.2.2->ultralytics) (0.10.0)\n",
      "Requirement already satisfied: fonttools>=4.22.0 in c:\\python311\\lib\\site-packages (from matplotlib>=3.2.2->ultralytics) (4.39.3)\n",
      "Requirement already satisfied: kiwisolver>=1.0.1 in c:\\python311\\lib\\site-packages (from matplotlib>=3.2.2->ultralytics) (1.4.4)\n",
      "Requirement already satisfied: numpy>=1.20 in c:\\python311\\lib\\site-packages (from matplotlib>=3.2.2->ultralytics) (1.24.3)\n",
      "Requirement already satisfied: packaging>=20.0 in c:\\python311\\lib\\site-packages (from matplotlib>=3.2.2->ultralytics) (23.1)\n",
      "Requirement already satisfied: pyparsing>=2.3.1 in c:\\python311\\lib\\site-packages (from matplotlib>=3.2.2->ultralytics) (2.4.7)\n",
      "Requirement already satisfied: python-dateutil>=2.7 in c:\\python311\\lib\\site-packages (from matplotlib>=3.2.2->ultralytics) (2.8.2)\n",
      "Requirement already satisfied: pytz>=2020.1 in c:\\python311\\lib\\site-packages (from pandas>=1.1.4->ultralytics) (2023.3)\n",
      "Requirement already satisfied: tzdata>=2022.1 in c:\\python311\\lib\\site-packages (from pandas>=1.1.4->ultralytics) (2023.3)\n",
      "Requirement already satisfied: charset-normalizer<4,>=2 in c:\\python311\\lib\\site-packages (from requests>=2.23.0->ultralytics) (3.1.0)\n",
      "Requirement already satisfied: idna<4,>=2.5 in c:\\python311\\lib\\site-packages (from requests>=2.23.0->ultralytics) (2.10)\n",
      "Requirement already satisfied: urllib3<1.27,>=1.21.1 in c:\\python311\\lib\\site-packages (from requests>=2.23.0->ultralytics) (1.26.15)\n",
      "Requirement already satisfied: certifi>=2017.4.17 in c:\\python311\\lib\\site-packages (from requests>=2.23.0->ultralytics) (2022.12.7)\n",
      "Requirement already satisfied: filelock in c:\\python311\\lib\\site-packages (from torch>=1.7.0->ultralytics) (3.9.0)\n",
      "Requirement already satisfied: typing-extensions in c:\\python311\\lib\\site-packages (from torch>=1.7.0->ultralytics) (4.4.0)\n",
      "Requirement already satisfied: sympy in c:\\python311\\lib\\site-packages (from torch>=1.7.0->ultralytics) (1.11.1)\n",
      "Requirement already satisfied: networkx in c:\\python311\\lib\\site-packages (from torch>=1.7.0->ultralytics) (3.0)\n",
      "Requirement already satisfied: jinja2 in c:\\python311\\lib\\site-packages (from torch>=1.7.0->ultralytics) (3.1.2)\n",
      "Requirement already satisfied: colorama in c:\\python311\\lib\\site-packages (from tqdm>=4.64.0->ultralytics) (0.4.6)\n",
      "Requirement already satisfied: six in c:\\python311\\lib\\site-packages (from cycler>=0.10->matplotlib>=3.2.2->ultralytics) (1.16.0)\n",
      "Requirement already satisfied: MarkupSafe>=2.0 in c:\\python311\\lib\\site-packages (from jinja2->torch>=1.7.0->ultralytics) (2.1.2)\n",
      "Requirement already satisfied: mpmath>=0.19 in c:\\python311\\lib\\site-packages (from sympy->torch>=1.7.0->ultralytics) (1.2.1)\n",
      "Installing collected packages: ultralytics\n"
     ]
    },
    {
     "name": "stderr",
     "output_type": "stream",
     "text": [
      "  WARNING: Failed to write executable - trying to use .deleteme logic\n",
      "ERROR: Could not install packages due to an OSError: [WinError 2] O sistema não pode encontrar o arquivo especificado: 'C:\\\\Python311\\\\Scripts\\\\ultralytics.exe' -> 'C:\\\\Python311\\\\Scripts\\\\ultralytics.exe.deleteme'\n",
      "\n"
     ]
    }
   ],
   "source": [
    "!pip install ultralytics"
   ]
  },
  {
   "cell_type": "code",
   "execution_count": null,
   "metadata": {},
   "outputs": [],
   "source": []
  },
  {
   "cell_type": "code",
   "execution_count": 6,
   "metadata": {
    "tags": []
   },
   "outputs": [
    {
     "name": "stdout",
     "output_type": "stream",
     "text": [
      "Name: pip\n",
      "Version: 22.3.1\n",
      "Summary: The PyPA recommended tool for installing Python packages.\n",
      "Home-page: https://pip.pypa.io/\n",
      "Author: The pip developers\n",
      "Author-email: distutils-sig@python.org\n",
      "License: MIT\n",
      "Location: C:\\Python311\\Lib\\site-packages\n",
      "Requires: \n",
      "Required-by: \n"
     ]
    }
   ],
   "source": [
    "!pip show pip"
   ]
  },
  {
   "cell_type": "code",
   "execution_count": 5,
   "metadata": {
    "tags": []
   },
   "outputs": [
    {
     "name": "stderr",
     "output_type": "stream",
     "text": [
      "import _frozen_importlib # frozen\n",
      "import _imp # builtin\n",
      "import '_thread' # <class '_frozen_importlib.BuiltinImporter'>\n",
      "import '_warnings' # <class '_frozen_importlib.BuiltinImporter'>\n",
      "import '_weakref' # <class '_frozen_importlib.BuiltinImporter'>\n",
      "import 'winreg' # <class '_frozen_importlib.BuiltinImporter'>\n",
      "import '_io' # <class '_frozen_importlib.BuiltinImporter'>\n",
      "import 'marshal' # <class '_frozen_importlib.BuiltinImporter'>\n",
      "import 'nt' # <class '_frozen_importlib.BuiltinImporter'>\n",
      "import '_frozen_importlib_external' # <class '_frozen_importlib.FrozenImporter'>\n",
      "# installing zipimport hook\n",
      "import 'time' # <class '_frozen_importlib.BuiltinImporter'>\n",
      "import 'zipimport' # <class '_frozen_importlib.FrozenImporter'>\n",
      "# installed zipimport hook\n",
      "# C:\\Python311\\Lib\\encodings\\__pycache__\\__init__.cpython-311.pyc matches C:\\Python311\\Lib\\encodings\\__init__.py\n",
      "# code object from 'C:\\\\Python311\\\\Lib\\\\encodings\\\\__pycache__\\\\__init__.cpython-311.pyc'\n",
      "import '_codecs' # <class '_frozen_importlib.BuiltinImporter'>\n",
      "import 'codecs' # <class '_frozen_importlib.FrozenImporter'>\n",
      "# C:\\Python311\\Lib\\encodings\\__pycache__\\aliases.cpython-311.pyc matches C:\\Python311\\Lib\\encodings\\aliases.py\n",
      "# code object from 'C:\\\\Python311\\\\Lib\\\\encodings\\\\__pycache__\\\\aliases.cpython-311.pyc'\n",
      "import 'encodings.aliases' # <_frozen_importlib_external.SourceFileLoader object at 0x000001D8C82AF0D0>\n",
      "import 'encodings' # <_frozen_importlib_external.SourceFileLoader object at 0x000001D8C82A7AD0>\n",
      "# C:\\Python311\\Lib\\encodings\\__pycache__\\utf_8.cpython-311.pyc matches C:\\Python311\\Lib\\encodings\\utf_8.py\n",
      "# code object from 'C:\\\\Python311\\\\Lib\\\\encodings\\\\__pycache__\\\\utf_8.cpython-311.pyc'\n",
      "import 'encodings.utf_8' # <_frozen_importlib_external.SourceFileLoader object at 0x000001D8C82D2D90>\n",
      "# C:\\Python311\\Lib\\encodings\\__pycache__\\cp1252.cpython-311.pyc matches C:\\Python311\\Lib\\encodings\\cp1252.py\n",
      "# code object from 'C:\\\\Python311\\\\Lib\\\\encodings\\\\__pycache__\\\\cp1252.cpython-311.pyc'\n",
      "import 'encodings.cp1252' # <_frozen_importlib_external.SourceFileLoader object at 0x000001D8C82D3390>\n",
      "import '_signal' # <class '_frozen_importlib.BuiltinImporter'>\n",
      "import '_abc' # <class '_frozen_importlib.BuiltinImporter'>\n",
      "import 'abc' # <class '_frozen_importlib.FrozenImporter'>\n",
      "import 'io' # <class '_frozen_importlib.FrozenImporter'>\n",
      "import '_stat' # <class '_frozen_importlib.BuiltinImporter'>\n",
      "import 'stat' # <class '_frozen_importlib.FrozenImporter'>\n",
      "import '_collections_abc' # <class '_frozen_importlib.FrozenImporter'>\n",
      "import 'genericpath' # <class '_frozen_importlib.FrozenImporter'>\n",
      "import '_winapi' # <class '_frozen_importlib.BuiltinImporter'>\n",
      "import 'ntpath' # <class '_frozen_importlib.FrozenImporter'>\n",
      "import 'os' # <class '_frozen_importlib.FrozenImporter'>\n",
      "import '_sitebuiltins' # <class '_frozen_importlib.FrozenImporter'>\n",
      "Processing user site-packages\n",
      "Processing global site-packages\n",
      "Adding directory: 'C:\\\\Python311'\n",
      "Adding directory: 'C:\\\\Python311\\\\Lib\\\\site-packages'\n",
      "Processing .pth file: 'C:\\\\Python311\\\\Lib\\\\site-packages\\\\distutils-precedence.pth'\n",
      "# C:\\Python311\\Lib\\site-packages\\_distutils_hack\\__pycache__\\__init__.cpython-311.pyc matches C:\\Python311\\Lib\\site-packages\\_distutils_hack\\__init__.py\n",
      "# code object from 'C:\\\\Python311\\\\Lib\\\\site-packages\\\\_distutils_hack\\\\__pycache__\\\\__init__.cpython-311.pyc'\n",
      "import '_distutils_hack' # <_frozen_importlib_external.SourceFileLoader object at 0x000001D8C848F550>\n",
      "Processing .pth file: 'C:\\\\Python311\\\\Lib\\\\site-packages\\\\matplotlib-3.7.1-py3.11-nspkg.pth'\n",
      "# C:\\Python311\\Lib\\__pycache__\\types.cpython-311.pyc matches C:\\Python311\\Lib\\types.py\n",
      "# code object from 'C:\\\\Python311\\\\Lib\\\\__pycache__\\\\types.cpython-311.pyc'\n",
      "import 'types' # <_frozen_importlib_external.SourceFileLoader object at 0x000001D8C8496E10>\n",
      "# C:\\Python311\\Lib\\importlib\\__pycache__\\__init__.cpython-311.pyc matches C:\\Python311\\Lib\\importlib\\__init__.py\n",
      "# code object from 'C:\\\\Python311\\\\Lib\\\\importlib\\\\__pycache__\\\\__init__.cpython-311.pyc'\n",
      "# C:\\Python311\\Lib\\__pycache__\\warnings.cpython-311.pyc matches C:\\Python311\\Lib\\warnings.py\n",
      "# code object from 'C:\\\\Python311\\\\Lib\\\\__pycache__\\\\warnings.cpython-311.pyc'\n",
      "import 'warnings' # <_frozen_importlib_external.SourceFileLoader object at 0x000001D8C84A8B10>\n",
      "import 'importlib' # <_frozen_importlib_external.SourceFileLoader object at 0x000001D8C84A8690>\n",
      "# C:\\Python311\\Lib\\importlib\\__pycache__\\_abc.cpython-311.pyc matches C:\\Python311\\Lib\\importlib\\_abc.py\n",
      "# code object from 'C:\\\\Python311\\\\Lib\\\\importlib\\\\__pycache__\\\\_abc.cpython-311.pyc'\n",
      "import 'importlib._abc' # <_frozen_importlib_external.SourceFileLoader object at 0x000001D8C84AAC50>\n",
      "# C:\\Python311\\Lib\\__pycache__\\contextlib.cpython-311.pyc matches C:\\Python311\\Lib\\contextlib.py\n",
      "# code object from 'C:\\\\Python311\\\\Lib\\\\__pycache__\\\\contextlib.cpython-311.pyc'\n",
      "# C:\\Python311\\Lib\\collections\\__pycache__\\__init__.cpython-311.pyc matches C:\\Python311\\Lib\\collections\\__init__.py\n",
      "# code object from 'C:\\\\Python311\\\\Lib\\\\collections\\\\__pycache__\\\\__init__.cpython-311.pyc'\n",
      "import 'itertools' # <class '_frozen_importlib.BuiltinImporter'>\n",
      "# C:\\Python311\\Lib\\__pycache__\\keyword.cpython-311.pyc matches C:\\Python311\\Lib\\keyword.py\n",
      "# code object from 'C:\\\\Python311\\\\Lib\\\\__pycache__\\\\keyword.cpython-311.pyc'\n",
      "import 'keyword' # <_frozen_importlib_external.SourceFileLoader object at 0x000001D8C84EC990>\n",
      "# C:\\Python311\\Lib\\__pycache__\\operator.cpython-311.pyc matches C:\\Python311\\Lib\\operator.py\n",
      "# code object from 'C:\\\\Python311\\\\Lib\\\\__pycache__\\\\operator.cpython-311.pyc'\n",
      "import '_operator' # <class '_frozen_importlib.BuiltinImporter'>\n",
      "import 'operator' # <_frozen_importlib_external.SourceFileLoader object at 0x000001D8C84ED490>\n",
      "# C:\\Python311\\Lib\\__pycache__\\reprlib.cpython-311.pyc matches C:\\Python311\\Lib\\reprlib.py\n",
      "# code object from 'C:\\\\Python311\\\\Lib\\\\__pycache__\\\\reprlib.cpython-311.pyc'\n",
      "import 'reprlib' # <_frozen_importlib_external.SourceFileLoader object at 0x000001D8C84EE110>\n",
      "import '_collections' # <class '_frozen_importlib.BuiltinImporter'>\n",
      "import 'collections' # <_frozen_importlib_external.SourceFileLoader object at 0x000001D8C84C1250>\n",
      "# C:\\Python311\\Lib\\__pycache__\\functools.cpython-311.pyc matches C:\\Python311\\Lib\\functools.py\n",
      "# code object from 'C:\\\\Python311\\\\Lib\\\\__pycache__\\\\functools.cpython-311.pyc'\n",
      "import '_functools' # <class '_frozen_importlib.BuiltinImporter'>\n",
      "import 'functools' # <_frozen_importlib_external.SourceFileLoader object at 0x000001D8C84F7250>\n",
      "import 'contextlib' # <_frozen_importlib_external.SourceFileLoader object at 0x000001D8C84AB610>\n",
      "import 'importlib.util' # <class '_frozen_importlib.FrozenImporter'>\n",
      "import 'importlib.machinery' # <class '_frozen_importlib.FrozenImporter'>\n",
      "Processing .pth file: 'C:\\\\Python311\\\\Lib\\\\site-packages\\\\pywin32.pth'\n",
      "# C:\\Python311\\Lib\\site-packages\\win32\\lib\\__pycache__\\pywin32_bootstrap.cpython-311.pyc matches C:\\Python311\\Lib\\site-packages\\win32\\lib\\pywin32_bootstrap.py\n",
      "# code object from 'C:\\\\Python311\\\\Lib\\\\site-packages\\\\win32\\\\lib\\\\__pycache__\\\\pywin32_bootstrap.cpython-311.pyc'\n",
      "# possible namespace for C:\\Python311\\Lib\\site-packages\\pywin32_system32\n",
      "import 'pywin32_system32' # <_frozen_importlib_external.NamespaceLoader object at 0x000001D8C850B690>\n",
      "import 'pywin32_bootstrap' # <_frozen_importlib_external.SourceFileLoader object at 0x000001D8C850BFD0>\n",
      "import 'site' # <class '_frozen_importlib.FrozenImporter'>\n",
      "Python 3.11.2 (tags/v3.11.2:878ead1, Feb  7 2023, 16:38:35) [MSC v.1934 64 bit (AMD64)] on win32\n",
      "Type \"help\", \"copyright\", \"credits\" or \"license\" for more information.\n",
      "C:\\Python311\\python.exe: can't open file 'C:\\\\Users\\\\mateu\\\\ICC\\\\UnrealShips_Yollov8_Training\\\\3.7': [Errno 2] No such file or directory\n",
      "# clear builtins._\n",
      "# clear sys.path\n",
      "# clear sys.argv\n",
      "# clear sys.ps1\n",
      "# clear sys.ps2\n",
      "# clear sys.last_type\n",
      "# clear sys.last_value\n",
      "# clear sys.last_traceback\n",
      "# clear sys.path_hooks\n",
      "# clear sys.path_importer_cache\n",
      "# clear sys.meta_path\n",
      "# clear sys.__interactivehook__\n",
      "# restore sys.stdin\n",
      "# restore sys.stdout\n",
      "# restore sys.stderr\n",
      "# cleanup[2] removing sys\n",
      "# cleanup[2] removing builtins\n",
      "# cleanup[2] removing _frozen_importlib\n",
      "# cleanup[2] removing _imp\n",
      "# cleanup[2] removing _thread\n",
      "# cleanup[2] removing _warnings\n",
      "# cleanup[2] removing _weakref\n",
      "# cleanup[2] removing winreg\n",
      "# cleanup[2] removing _io\n",
      "# cleanup[2] removing marshal\n",
      "# cleanup[2] removing nt\n",
      "# cleanup[2] removing _frozen_importlib_external\n",
      "# cleanup[2] removing time\n",
      "# cleanup[2] removing zipimport\n",
      "# destroy zipimport\n",
      "# cleanup[2] removing _codecs\n",
      "# cleanup[2] removing codecs\n",
      "# cleanup[2] removing encodings.aliases\n",
      "# cleanup[2] removing encodings\n",
      "# destroy encodings\n",
      "# cleanup[2] removing encodings.utf_8\n",
      "# cleanup[2] removing encodings.cp1252\n",
      "# cleanup[2] removing _signal\n",
      "# cleanup[2] removing _abc\n",
      "# cleanup[2] removing abc\n",
      "# cleanup[2] removing io\n",
      "# cleanup[2] removing __main__\n",
      "# destroy __main__\n",
      "# cleanup[2] removing _stat\n",
      "# cleanup[2] removing stat\n",
      "# cleanup[2] removing _collections_abc\n",
      "# cleanup[2] removing genericpath\n",
      "# cleanup[2] removing _winapi\n",
      "# cleanup[2] removing ntpath\n",
      "# cleanup[2] removing os.path\n",
      "# cleanup[2] removing os\n",
      "# cleanup[2] removing _sitebuiltins\n",
      "# cleanup[2] removing _distutils_hack\n",
      "# destroy _distutils_hack\n",
      "# cleanup[2] removing types\n",
      "# cleanup[2] removing importlib._bootstrap\n",
      "# cleanup[2] removing importlib._bootstrap_external\n",
      "# cleanup[2] removing warnings\n",
      "# cleanup[2] removing importlib\n",
      "# destroy importlib\n",
      "# cleanup[2] removing importlib._abc\n",
      "# cleanup[2] removing itertools\n",
      "# cleanup[2] removing keyword\n",
      "# destroy keyword\n",
      "# cleanup[2] removing _operator\n",
      "# cleanup[2] removing operator\n",
      "# destroy operator\n",
      "# cleanup[2] removing reprlib\n",
      "# destroy reprlib\n",
      "# cleanup[2] removing _collections\n",
      "# cleanup[2] removing collections\n",
      "# destroy collections\n",
      "# cleanup[2] removing _functools\n",
      "# cleanup[2] removing functools\n",
      "# cleanup[2] removing contextlib\n",
      "# destroy contextlib\n",
      "# cleanup[2] removing importlib.util\n",
      "# cleanup[2] removing importlib.machinery\n",
      "# cleanup[2] removing mpl_toolkits\n",
      "# destroy mpl_toolkits\n",
      "# cleanup[2] removing pywin32_system32\n",
      "# cleanup[2] removing pywin32_bootstrap\n",
      "# destroy pywin32_bootstrap\n",
      "# destroy pywin32_system32\n",
      "# cleanup[2] removing site\n",
      "# destroy site\n",
      "# destroy _signal\n",
      "# destroy _sitebuiltins\n",
      "# destroy io\n",
      "# destroy importlib._abc\n",
      "# destroy importlib.util\n",
      "# destroy importlib.machinery\n",
      "# destroy functools\n",
      "# destroy types\n",
      "# destroy warnings\n",
      "# destroy _collections_abc\n",
      "# destroy itertools\n",
      "# destroy _operator\n",
      "# destroy _collections\n",
      "# destroy _functools\n",
      "# cleanup[3] wiping importlib._bootstrap_external\n",
      "# cleanup[3] wiping importlib._bootstrap\n",
      "# cleanup[3] wiping os\n",
      "# destroy abc\n",
      "# destroy ntpath\n",
      "# cleanup[3] wiping _winapi\n",
      "# cleanup[3] wiping genericpath\n",
      "# cleanup[3] wiping stat\n",
      "# cleanup[3] wiping _stat\n",
      "# destroy _stat\n",
      "# cleanup[3] wiping _abc\n",
      "# cleanup[3] wiping encodings.cp1252\n",
      "# cleanup[3] wiping encodings.utf_8\n",
      "# cleanup[3] wiping encodings.aliases\n",
      "# cleanup[3] wiping codecs\n",
      "# cleanup[3] wiping _codecs\n",
      "# cleanup[3] wiping time\n",
      "# cleanup[3] wiping _frozen_importlib_external\n",
      "# cleanup[3] wiping nt\n",
      "# cleanup[3] wiping marshal\n",
      "# cleanup[3] wiping _io\n",
      "# cleanup[3] wiping winreg\n",
      "# cleanup[3] wiping _weakref\n",
      "# destroy _weakref\n",
      "# cleanup[3] wiping _warnings\n",
      "# cleanup[3] wiping _thread\n",
      "# cleanup[3] wiping _imp\n",
      "# cleanup[3] wiping _frozen_importlib\n",
      "# cleanup[3] wiping sys\n",
      "# cleanup[3] wiping builtins\n",
      "# destroy winreg\n",
      "# destroy _thread\n",
      "# destroy _frozen_importlib_external\n",
      "# destroy _imp\n",
      "# destroy io\n",
      "# destroy marshal\n",
      "# destroy time\n",
      "# destroy _warnings\n",
      "# destroy os\n",
      "# destroy stat\n",
      "# destroy genericpath\n",
      "# destroy nt\n",
      "# destroy _abc\n",
      "# destroy _winapi\n",
      "# destroy _frozen_importlib\n",
      "# destroy codecs\n",
      "# destroy sys\n",
      "# destroy encodings.aliases\n",
      "# destroy encodings.utf_8\n",
      "# destroy encodings.cp1252\n",
      "# destroy _codecs\n",
      "# destroy builtins\n",
      "# clear sys.audit hooks\n"
     ]
    }
   ],
   "source": [
    "!py -v 3.7"
   ]
  },
  {
   "cell_type": "code",
   "execution_count": null,
   "metadata": {},
   "outputs": [],
   "source": []
  }
 ],
 "metadata": {
  "accelerator": "GPU",
  "colab": {
   "provenance": []
  },
  "gpuClass": "standard",
  "kernelspec": {
   "display_name": "Python 3 (ipykernel)",
   "language": "python",
   "name": "python3"
  },
  "language_info": {
   "codemirror_mode": {
    "name": "ipython",
    "version": 3
   },
   "file_extension": ".py",
   "mimetype": "text/x-python",
   "name": "python",
   "nbconvert_exporter": "python",
   "pygments_lexer": "ipython3",
   "version": "3.11.2"
  }
 },
 "nbformat": 4,
 "nbformat_minor": 4
}
